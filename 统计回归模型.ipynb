{
 "cells": [
  {
   "cell_type": "markdown",
   "id": "a4f1f1c7",
   "metadata": {},
   "source": [
    "对于两个相关的变量，相关性度量的是两个变量之间的关联程度。相反，线性回归是用一个变量的值来预测另一个变量的值。"
   ]
  },
  {
   "cell_type": "markdown",
   "id": "d086ee6e",
   "metadata": {},
   "source": [
    "两个变量之间的相关系数回答了这个问题 这两个变量有关系吗 也就是说 如果一个变量的变化 那另一个也改变了吗 如果这两个变量是正态分布的 确定相关系数的标准方法通常是Pearson"
   ]
  },
  {
   "cell_type": "markdown",
   "id": "526db1ef",
   "metadata": {},
   "source": [
    "如果数据不是正态分布的 那么需要采用不同的方法 在这种情况下 我们可以对数据集的每个变量进行排序 并比较这个顺序 计算秩相关的常用方法有两种\n",
    "Spearman Kendall"
   ]
  },
  {
   "cell_type": "markdown",
   "id": "7909310d",
   "metadata": {},
   "source": [
    "当我们想用一个或多个其他的变量预测一个变量的时候 我们可以用线性回归模型 由于线性回归方程是用最小化残差平方和的方法来解决的，线性回归有时也被称为普通最小二乘法（OLS）回归\n",
    "注意，与相关性相反，x和y之间的这种关系不再是对称的：它假设x值是精确的，所有的变异性都在于残差"
   ]
  },
  {
   "cell_type": "markdown",
   "id": "d66453c1",
   "metadata": {},
   "source": [
    "拟合带置信区间的直线\n",
    "对于单变量分布 基于标准差的置信区间表示我们期望包含95%的数据的区间，而基于平均值的标准误的置信区间"
   ]
  },
  {
   "cell_type": "code",
   "execution_count": null,
   "id": "14b9fdc1",
   "metadata": {},
   "outputs": [],
   "source": []
  }
 ],
 "metadata": {
  "kernelspec": {
   "display_name": "Python 3 (ipykernel)",
   "language": "python",
   "name": "python3"
  },
  "language_info": {
   "codemirror_mode": {
    "name": "ipython",
    "version": 3
   },
   "file_extension": ".py",
   "mimetype": "text/x-python",
   "name": "python",
   "nbconvert_exporter": "python",
   "pygments_lexer": "ipython3",
   "version": "3.9.5"
  }
 },
 "nbformat": 4,
 "nbformat_minor": 5
}
