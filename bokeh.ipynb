{
 "cells": [
  {
   "cell_type": "code",
   "execution_count": 1,
   "id": "e25b6873",
   "metadata": {},
   "outputs": [],
   "source": [
    "import numpy as np\n",
    "import pandas as pd\n",
    "import matplotlib.pyplot as plt\n",
    "%matplotlib inline\n",
    "import warnings\n",
    "warnings.filterwarnings(\"ignore\")"
   ]
  },
  {
   "cell_type": "code",
   "execution_count": 2,
   "id": "2e54cf44",
   "metadata": {},
   "outputs": [],
   "source": [
    "from bokeh.plotting import figure,show"
   ]
  },
  {
   "cell_type": "code",
   "execution_count": 13,
   "id": "2de81952",
   "metadata": {},
   "outputs": [
    {
     "data": {
      "text/html": [
       "<div class=\"bk-root\">\n",
       "        <a href=\"https://bokeh.org\" target=\"_blank\" class=\"bk-logo bk-logo-small bk-logo-notebook\"></a>\n",
       "        <span id=\"2563\">Loading BokehJS ...</span>\n",
       "    </div>\n"
      ]
     },
     "metadata": {},
     "output_type": "display_data"
    },
    {
     "data": {
      "application/javascript": [
       "(function(root) {\n",
       "  function now() {\n",
       "    return new Date();\n",
       "  }\n",
       "\n",
       "  const force = true;\n",
       "\n",
       "  if (typeof root._bokeh_onload_callbacks === \"undefined\" || force === true) {\n",
       "    root._bokeh_onload_callbacks = [];\n",
       "    root._bokeh_is_loading = undefined;\n",
       "  }\n",
       "\n",
       "const JS_MIME_TYPE = 'application/javascript';\n",
       "  const HTML_MIME_TYPE = 'text/html';\n",
       "  const EXEC_MIME_TYPE = 'application/vnd.bokehjs_exec.v0+json';\n",
       "  const CLASS_NAME = 'output_bokeh rendered_html';\n",
       "\n",
       "  /**\n",
       "   * Render data to the DOM node\n",
       "   */\n",
       "  function render(props, node) {\n",
       "    const script = document.createElement(\"script\");\n",
       "    node.appendChild(script);\n",
       "  }\n",
       "\n",
       "  /**\n",
       "   * Handle when an output is cleared or removed\n",
       "   */\n",
       "  function handleClearOutput(event, handle) {\n",
       "    const cell = handle.cell;\n",
       "\n",
       "    const id = cell.output_area._bokeh_element_id;\n",
       "    const server_id = cell.output_area._bokeh_server_id;\n",
       "    // Clean up Bokeh references\n",
       "    if (id != null && id in Bokeh.index) {\n",
       "      Bokeh.index[id].model.document.clear();\n",
       "      delete Bokeh.index[id];\n",
       "    }\n",
       "\n",
       "    if (server_id !== undefined) {\n",
       "      // Clean up Bokeh references\n",
       "      const cmd_clean = \"from bokeh.io.state import curstate; print(curstate().uuid_to_server['\" + server_id + \"'].get_sessions()[0].document.roots[0]._id)\";\n",
       "      cell.notebook.kernel.execute(cmd_clean, {\n",
       "        iopub: {\n",
       "          output: function(msg) {\n",
       "            const id = msg.content.text.trim();\n",
       "            if (id in Bokeh.index) {\n",
       "              Bokeh.index[id].model.document.clear();\n",
       "              delete Bokeh.index[id];\n",
       "            }\n",
       "          }\n",
       "        }\n",
       "      });\n",
       "      // Destroy server and session\n",
       "      const cmd_destroy = \"import bokeh.io.notebook as ion; ion.destroy_server('\" + server_id + \"')\";\n",
       "      cell.notebook.kernel.execute(cmd_destroy);\n",
       "    }\n",
       "  }\n",
       "\n",
       "  /**\n",
       "   * Handle when a new output is added\n",
       "   */\n",
       "  function handleAddOutput(event, handle) {\n",
       "    const output_area = handle.output_area;\n",
       "    const output = handle.output;\n",
       "\n",
       "    // limit handleAddOutput to display_data with EXEC_MIME_TYPE content only\n",
       "    if ((output.output_type != \"display_data\") || (!Object.prototype.hasOwnProperty.call(output.data, EXEC_MIME_TYPE))) {\n",
       "      return\n",
       "    }\n",
       "\n",
       "    const toinsert = output_area.element.find(\".\" + CLASS_NAME.split(' ')[0]);\n",
       "\n",
       "    if (output.metadata[EXEC_MIME_TYPE][\"id\"] !== undefined) {\n",
       "      toinsert[toinsert.length - 1].firstChild.textContent = output.data[JS_MIME_TYPE];\n",
       "      // store reference to embed id on output_area\n",
       "      output_area._bokeh_element_id = output.metadata[EXEC_MIME_TYPE][\"id\"];\n",
       "    }\n",
       "    if (output.metadata[EXEC_MIME_TYPE][\"server_id\"] !== undefined) {\n",
       "      const bk_div = document.createElement(\"div\");\n",
       "      bk_div.innerHTML = output.data[HTML_MIME_TYPE];\n",
       "      const script_attrs = bk_div.children[0].attributes;\n",
       "      for (let i = 0; i < script_attrs.length; i++) {\n",
       "        toinsert[toinsert.length - 1].firstChild.setAttribute(script_attrs[i].name, script_attrs[i].value);\n",
       "        toinsert[toinsert.length - 1].firstChild.textContent = bk_div.children[0].textContent\n",
       "      }\n",
       "      // store reference to server id on output_area\n",
       "      output_area._bokeh_server_id = output.metadata[EXEC_MIME_TYPE][\"server_id\"];\n",
       "    }\n",
       "  }\n",
       "\n",
       "  function register_renderer(events, OutputArea) {\n",
       "\n",
       "    function append_mime(data, metadata, element) {\n",
       "      // create a DOM node to render to\n",
       "      const toinsert = this.create_output_subarea(\n",
       "        metadata,\n",
       "        CLASS_NAME,\n",
       "        EXEC_MIME_TYPE\n",
       "      );\n",
       "      this.keyboard_manager.register_events(toinsert);\n",
       "      // Render to node\n",
       "      const props = {data: data, metadata: metadata[EXEC_MIME_TYPE]};\n",
       "      render(props, toinsert[toinsert.length - 1]);\n",
       "      element.append(toinsert);\n",
       "      return toinsert\n",
       "    }\n",
       "\n",
       "    /* Handle when an output is cleared or removed */\n",
       "    events.on('clear_output.CodeCell', handleClearOutput);\n",
       "    events.on('delete.Cell', handleClearOutput);\n",
       "\n",
       "    /* Handle when a new output is added */\n",
       "    events.on('output_added.OutputArea', handleAddOutput);\n",
       "\n",
       "    /**\n",
       "     * Register the mime type and append_mime function with output_area\n",
       "     */\n",
       "    OutputArea.prototype.register_mime_type(EXEC_MIME_TYPE, append_mime, {\n",
       "      /* Is output safe? */\n",
       "      safe: true,\n",
       "      /* Index of renderer in `output_area.display_order` */\n",
       "      index: 0\n",
       "    });\n",
       "  }\n",
       "\n",
       "  // register the mime type if in Jupyter Notebook environment and previously unregistered\n",
       "  if (root.Jupyter !== undefined) {\n",
       "    const events = require('base/js/events');\n",
       "    const OutputArea = require('notebook/js/outputarea').OutputArea;\n",
       "\n",
       "    if (OutputArea.prototype.mime_types().indexOf(EXEC_MIME_TYPE) == -1) {\n",
       "      register_renderer(events, OutputArea);\n",
       "    }\n",
       "  }\n",
       "  if (typeof (root._bokeh_timeout) === \"undefined\" || force === true) {\n",
       "    root._bokeh_timeout = Date.now() + 5000;\n",
       "    root._bokeh_failed_load = false;\n",
       "  }\n",
       "\n",
       "  const NB_LOAD_WARNING = {'data': {'text/html':\n",
       "     \"<div style='background-color: #fdd'>\\n\"+\n",
       "     \"<p>\\n\"+\n",
       "     \"BokehJS does not appear to have successfully loaded. If loading BokehJS from CDN, this \\n\"+\n",
       "     \"may be due to a slow or bad network connection. Possible fixes:\\n\"+\n",
       "     \"</p>\\n\"+\n",
       "     \"<ul>\\n\"+\n",
       "     \"<li>re-rerun `output_notebook()` to attempt to load from CDN again, or</li>\\n\"+\n",
       "     \"<li>use INLINE resources instead, as so:</li>\\n\"+\n",
       "     \"</ul>\\n\"+\n",
       "     \"<code>\\n\"+\n",
       "     \"from bokeh.resources import INLINE\\n\"+\n",
       "     \"output_notebook(resources=INLINE)\\n\"+\n",
       "     \"</code>\\n\"+\n",
       "     \"</div>\"}};\n",
       "\n",
       "  function display_loaded() {\n",
       "    const el = document.getElementById(\"2563\");\n",
       "    if (el != null) {\n",
       "      el.textContent = \"BokehJS is loading...\";\n",
       "    }\n",
       "    if (root.Bokeh !== undefined) {\n",
       "      if (el != null) {\n",
       "        el.textContent = \"BokehJS \" + root.Bokeh.version + \" successfully loaded.\";\n",
       "      }\n",
       "    } else if (Date.now() < root._bokeh_timeout) {\n",
       "      setTimeout(display_loaded, 100)\n",
       "    }\n",
       "  }\n",
       "\n",
       "  function run_callbacks() {\n",
       "    try {\n",
       "      root._bokeh_onload_callbacks.forEach(function(callback) {\n",
       "        if (callback != null)\n",
       "          callback();\n",
       "      });\n",
       "    } finally {\n",
       "      delete root._bokeh_onload_callbacks\n",
       "    }\n",
       "    console.debug(\"Bokeh: all callbacks have finished\");\n",
       "  }\n",
       "\n",
       "  function load_libs(css_urls, js_urls, callback) {\n",
       "    if (css_urls == null) css_urls = [];\n",
       "    if (js_urls == null) js_urls = [];\n",
       "\n",
       "    root._bokeh_onload_callbacks.push(callback);\n",
       "    if (root._bokeh_is_loading > 0) {\n",
       "      console.debug(\"Bokeh: BokehJS is being loaded, scheduling callback at\", now());\n",
       "      return null;\n",
       "    }\n",
       "    if (js_urls == null || js_urls.length === 0) {\n",
       "      run_callbacks();\n",
       "      return null;\n",
       "    }\n",
       "    console.debug(\"Bokeh: BokehJS not loaded, scheduling load and callback at\", now());\n",
       "    root._bokeh_is_loading = css_urls.length + js_urls.length;\n",
       "\n",
       "    function on_load() {\n",
       "      root._bokeh_is_loading--;\n",
       "      if (root._bokeh_is_loading === 0) {\n",
       "        console.debug(\"Bokeh: all BokehJS libraries/stylesheets loaded\");\n",
       "        run_callbacks()\n",
       "      }\n",
       "    }\n",
       "\n",
       "    function on_error(url) {\n",
       "      console.error(\"failed to load \" + url);\n",
       "    }\n",
       "\n",
       "    for (let i = 0; i < css_urls.length; i++) {\n",
       "      const url = css_urls[i];\n",
       "      const element = document.createElement(\"link\");\n",
       "      element.onload = on_load;\n",
       "      element.onerror = on_error.bind(null, url);\n",
       "      element.rel = \"stylesheet\";\n",
       "      element.type = \"text/css\";\n",
       "      element.href = url;\n",
       "      console.debug(\"Bokeh: injecting link tag for BokehJS stylesheet: \", url);\n",
       "      document.body.appendChild(element);\n",
       "    }\n",
       "\n",
       "    for (let i = 0; i < js_urls.length; i++) {\n",
       "      const url = js_urls[i];\n",
       "      const element = document.createElement('script');\n",
       "      element.onload = on_load;\n",
       "      element.onerror = on_error.bind(null, url);\n",
       "      element.async = false;\n",
       "      element.src = url;\n",
       "      console.debug(\"Bokeh: injecting script tag for BokehJS library: \", url);\n",
       "      document.head.appendChild(element);\n",
       "    }\n",
       "  };\n",
       "\n",
       "  function inject_raw_css(css) {\n",
       "    const element = document.createElement(\"style\");\n",
       "    element.appendChild(document.createTextNode(css));\n",
       "    document.body.appendChild(element);\n",
       "  }\n",
       "\n",
       "  const js_urls = [\"https://cdn.bokeh.org/bokeh/release/bokeh-2.4.3.min.js\", \"https://cdn.bokeh.org/bokeh/release/bokeh-gl-2.4.3.min.js\", \"https://cdn.bokeh.org/bokeh/release/bokeh-widgets-2.4.3.min.js\", \"https://cdn.bokeh.org/bokeh/release/bokeh-tables-2.4.3.min.js\", \"https://cdn.bokeh.org/bokeh/release/bokeh-mathjax-2.4.3.min.js\"];\n",
       "  const css_urls = [];\n",
       "\n",
       "  const inline_js = [    function(Bokeh) {\n",
       "      Bokeh.set_log_level(\"info\");\n",
       "    },\n",
       "function(Bokeh) {\n",
       "    }\n",
       "  ];\n",
       "\n",
       "  function run_inline_js() {\n",
       "    if (root.Bokeh !== undefined || force === true) {\n",
       "          for (let i = 0; i < inline_js.length; i++) {\n",
       "      inline_js[i].call(root, root.Bokeh);\n",
       "    }\n",
       "if (force === true) {\n",
       "        display_loaded();\n",
       "      }} else if (Date.now() < root._bokeh_timeout) {\n",
       "      setTimeout(run_inline_js, 100);\n",
       "    } else if (!root._bokeh_failed_load) {\n",
       "      console.log(\"Bokeh: BokehJS failed to load within specified timeout.\");\n",
       "      root._bokeh_failed_load = true;\n",
       "    } else if (force !== true) {\n",
       "      const cell = $(document.getElementById(\"2563\")).parents('.cell').data().cell;\n",
       "      cell.output_area.append_execute_result(NB_LOAD_WARNING)\n",
       "    }\n",
       "  }\n",
       "\n",
       "  if (root._bokeh_is_loading === 0) {\n",
       "    console.debug(\"Bokeh: BokehJS loaded, going straight to plotting\");\n",
       "    run_inline_js();\n",
       "  } else {\n",
       "    load_libs(css_urls, js_urls, function() {\n",
       "      console.debug(\"Bokeh: BokehJS plotting callback run at\", now());\n",
       "      run_inline_js();\n",
       "    });\n",
       "  }\n",
       "}(window));"
      ],
      "application/vnd.bokehjs_load.v0+json": "(function(root) {\n  function now() {\n    return new Date();\n  }\n\n  const force = true;\n\n  if (typeof root._bokeh_onload_callbacks === \"undefined\" || force === true) {\n    root._bokeh_onload_callbacks = [];\n    root._bokeh_is_loading = undefined;\n  }\n\n\n  if (typeof (root._bokeh_timeout) === \"undefined\" || force === true) {\n    root._bokeh_timeout = Date.now() + 5000;\n    root._bokeh_failed_load = false;\n  }\n\n  const NB_LOAD_WARNING = {'data': {'text/html':\n     \"<div style='background-color: #fdd'>\\n\"+\n     \"<p>\\n\"+\n     \"BokehJS does not appear to have successfully loaded. If loading BokehJS from CDN, this \\n\"+\n     \"may be due to a slow or bad network connection. Possible fixes:\\n\"+\n     \"</p>\\n\"+\n     \"<ul>\\n\"+\n     \"<li>re-rerun `output_notebook()` to attempt to load from CDN again, or</li>\\n\"+\n     \"<li>use INLINE resources instead, as so:</li>\\n\"+\n     \"</ul>\\n\"+\n     \"<code>\\n\"+\n     \"from bokeh.resources import INLINE\\n\"+\n     \"output_notebook(resources=INLINE)\\n\"+\n     \"</code>\\n\"+\n     \"</div>\"}};\n\n  function display_loaded() {\n    const el = document.getElementById(\"2563\");\n    if (el != null) {\n      el.textContent = \"BokehJS is loading...\";\n    }\n    if (root.Bokeh !== undefined) {\n      if (el != null) {\n        el.textContent = \"BokehJS \" + root.Bokeh.version + \" successfully loaded.\";\n      }\n    } else if (Date.now() < root._bokeh_timeout) {\n      setTimeout(display_loaded, 100)\n    }\n  }\n\n  function run_callbacks() {\n    try {\n      root._bokeh_onload_callbacks.forEach(function(callback) {\n        if (callback != null)\n          callback();\n      });\n    } finally {\n      delete root._bokeh_onload_callbacks\n    }\n    console.debug(\"Bokeh: all callbacks have finished\");\n  }\n\n  function load_libs(css_urls, js_urls, callback) {\n    if (css_urls == null) css_urls = [];\n    if (js_urls == null) js_urls = [];\n\n    root._bokeh_onload_callbacks.push(callback);\n    if (root._bokeh_is_loading > 0) {\n      console.debug(\"Bokeh: BokehJS is being loaded, scheduling callback at\", now());\n      return null;\n    }\n    if (js_urls == null || js_urls.length === 0) {\n      run_callbacks();\n      return null;\n    }\n    console.debug(\"Bokeh: BokehJS not loaded, scheduling load and callback at\", now());\n    root._bokeh_is_loading = css_urls.length + js_urls.length;\n\n    function on_load() {\n      root._bokeh_is_loading--;\n      if (root._bokeh_is_loading === 0) {\n        console.debug(\"Bokeh: all BokehJS libraries/stylesheets loaded\");\n        run_callbacks()\n      }\n    }\n\n    function on_error(url) {\n      console.error(\"failed to load \" + url);\n    }\n\n    for (let i = 0; i < css_urls.length; i++) {\n      const url = css_urls[i];\n      const element = document.createElement(\"link\");\n      element.onload = on_load;\n      element.onerror = on_error.bind(null, url);\n      element.rel = \"stylesheet\";\n      element.type = \"text/css\";\n      element.href = url;\n      console.debug(\"Bokeh: injecting link tag for BokehJS stylesheet: \", url);\n      document.body.appendChild(element);\n    }\n\n    for (let i = 0; i < js_urls.length; i++) {\n      const url = js_urls[i];\n      const element = document.createElement('script');\n      element.onload = on_load;\n      element.onerror = on_error.bind(null, url);\n      element.async = false;\n      element.src = url;\n      console.debug(\"Bokeh: injecting script tag for BokehJS library: \", url);\n      document.head.appendChild(element);\n    }\n  };\n\n  function inject_raw_css(css) {\n    const element = document.createElement(\"style\");\n    element.appendChild(document.createTextNode(css));\n    document.body.appendChild(element);\n  }\n\n  const js_urls = [\"https://cdn.bokeh.org/bokeh/release/bokeh-2.4.3.min.js\", \"https://cdn.bokeh.org/bokeh/release/bokeh-gl-2.4.3.min.js\", \"https://cdn.bokeh.org/bokeh/release/bokeh-widgets-2.4.3.min.js\", \"https://cdn.bokeh.org/bokeh/release/bokeh-tables-2.4.3.min.js\", \"https://cdn.bokeh.org/bokeh/release/bokeh-mathjax-2.4.3.min.js\"];\n  const css_urls = [];\n\n  const inline_js = [    function(Bokeh) {\n      Bokeh.set_log_level(\"info\");\n    },\nfunction(Bokeh) {\n    }\n  ];\n\n  function run_inline_js() {\n    if (root.Bokeh !== undefined || force === true) {\n          for (let i = 0; i < inline_js.length; i++) {\n      inline_js[i].call(root, root.Bokeh);\n    }\nif (force === true) {\n        display_loaded();\n      }} else if (Date.now() < root._bokeh_timeout) {\n      setTimeout(run_inline_js, 100);\n    } else if (!root._bokeh_failed_load) {\n      console.log(\"Bokeh: BokehJS failed to load within specified timeout.\");\n      root._bokeh_failed_load = true;\n    } else if (force !== true) {\n      const cell = $(document.getElementById(\"2563\")).parents('.cell').data().cell;\n      cell.output_area.append_execute_result(NB_LOAD_WARNING)\n    }\n  }\n\n  if (root._bokeh_is_loading === 0) {\n    console.debug(\"Bokeh: BokehJS loaded, going straight to plotting\");\n    run_inline_js();\n  } else {\n    load_libs(css_urls, js_urls, function() {\n      console.debug(\"Bokeh: BokehJS plotting callback run at\", now());\n      run_inline_js();\n    });\n  }\n}(window));"
     },
     "metadata": {},
     "output_type": "display_data"
    },
    {
     "data": {
      "text/html": [
       "\n",
       "  <div class=\"bk-root\" id=\"c89927e4-edf1-4b93-b1b9-4f2f1c201ef5\" data-root-id=\"2564\"></div>\n"
      ]
     },
     "metadata": {},
     "output_type": "display_data"
    },
    {
     "data": {
      "application/javascript": [
       "(function(root) {\n",
       "  function embed_document(root) {\n",
       "  const docs_json = {\"1773a72c-f998-4375-bc31-39c071bc13bc\":{\"defs\":[],\"roots\":{\"references\":[{\"attributes\":{\"below\":[{\"id\":\"2573\"}],\"center\":[{\"id\":\"2576\"},{\"id\":\"2580\"}],\"height\":400,\"left\":[{\"id\":\"2577\"}],\"renderers\":[{\"id\":\"2599\"}],\"title\":{\"id\":\"2665\"},\"toolbar\":{\"id\":\"2588\"},\"width\":400,\"x_range\":{\"id\":\"2565\"},\"x_scale\":{\"id\":\"2569\"},\"y_range\":{\"id\":\"2567\"},\"y_scale\":{\"id\":\"2571\"}},\"id\":\"2564\",\"subtype\":\"Figure\",\"type\":\"Plot\"},{\"attributes\":{\"source\":{\"id\":\"2595\"}},\"id\":\"2600\",\"type\":\"CDSView\"},{\"attributes\":{\"data\":{\"x\":[1,2,3,4,5],\"y\":[3,5,4,2,6]},\"selected\":{\"id\":\"2674\"},\"selection_policy\":{\"id\":\"2673\"}},\"id\":\"2595\",\"type\":\"ColumnDataSource\"},{\"attributes\":{\"fill_alpha\":{\"value\":0.2},\"hatch_alpha\":{\"value\":0.2},\"hatch_color\":{\"value\":\"gray\"},\"line_alpha\":{\"value\":0.2},\"line_color\":{\"value\":\"gray\"},\"size\":{\"value\":20},\"x\":{\"field\":\"x\"},\"y\":{\"field\":\"y\"}},\"id\":\"2598\",\"type\":\"Circle\"},{\"attributes\":{\"axis\":{\"id\":\"2573\"},\"coordinates\":null,\"group\":null,\"ticker\":null},\"id\":\"2576\",\"type\":\"Grid\"},{\"attributes\":{\"coordinates\":null,\"data_source\":{\"id\":\"2595\"},\"glyph\":{\"id\":\"2596\"},\"group\":null,\"hover_glyph\":null,\"muted_glyph\":{\"id\":\"2598\"},\"nonselection_glyph\":{\"id\":\"2597\"},\"view\":{\"id\":\"2600\"}},\"id\":\"2599\",\"type\":\"GlyphRenderer\"},{\"attributes\":{},\"id\":\"2673\",\"type\":\"UnionRenderers\"},{\"attributes\":{},\"id\":\"2671\",\"type\":\"BasicTickFormatter\"},{\"attributes\":{},\"id\":\"2571\",\"type\":\"LinearScale\"},{\"attributes\":{},\"id\":\"2578\",\"type\":\"BasicTicker\"},{\"attributes\":{},\"id\":\"2674\",\"type\":\"Selection\"},{\"attributes\":{},\"id\":\"2669\",\"type\":\"AllLabels\"},{\"attributes\":{\"coordinates\":null,\"formatter\":{\"id\":\"2668\"},\"group\":null,\"major_label_policy\":{\"id\":\"2669\"},\"ticker\":{\"id\":\"2578\"}},\"id\":\"2577\",\"type\":\"LinearAxis\"},{\"attributes\":{},\"id\":\"2574\",\"type\":\"BasicTicker\"},{\"attributes\":{\"hatch_color\":{\"value\":\"gray\"},\"line_color\":{\"value\":\"gray\"},\"size\":{\"value\":20},\"x\":{\"field\":\"x\"},\"y\":{\"field\":\"y\"}},\"id\":\"2596\",\"type\":\"Circle\"},{\"attributes\":{},\"id\":\"2582\",\"type\":\"WheelZoomTool\"},{\"attributes\":{},\"id\":\"2567\",\"type\":\"DataRange1d\"},{\"attributes\":{\"coordinates\":null,\"formatter\":{\"id\":\"2671\"},\"group\":null,\"major_label_policy\":{\"id\":\"2672\"},\"ticker\":{\"id\":\"2574\"}},\"id\":\"2573\",\"type\":\"LinearAxis\"},{\"attributes\":{},\"id\":\"2569\",\"type\":\"LinearScale\"},{\"attributes\":{},\"id\":\"2586\",\"type\":\"HelpTool\"},{\"attributes\":{},\"id\":\"2668\",\"type\":\"BasicTickFormatter\"},{\"attributes\":{\"tools\":[{\"id\":\"2581\"},{\"id\":\"2582\"},{\"id\":\"2583\"},{\"id\":\"2584\"},{\"id\":\"2585\"},{\"id\":\"2586\"}]},\"id\":\"2588\",\"type\":\"Toolbar\"},{\"attributes\":{},\"id\":\"2672\",\"type\":\"AllLabels\"},{\"attributes\":{},\"id\":\"2585\",\"type\":\"ResetTool\"},{\"attributes\":{},\"id\":\"2565\",\"type\":\"DataRange1d\"},{\"attributes\":{\"bottom_units\":\"screen\",\"coordinates\":null,\"fill_alpha\":0.5,\"fill_color\":\"lightgrey\",\"group\":null,\"left_units\":\"screen\",\"level\":\"overlay\",\"line_alpha\":1.0,\"line_color\":\"black\",\"line_dash\":[4,4],\"line_width\":2,\"right_units\":\"screen\",\"syncable\":false,\"top_units\":\"screen\"},\"id\":\"2587\",\"type\":\"BoxAnnotation\"},{\"attributes\":{\"coordinates\":null,\"group\":null},\"id\":\"2665\",\"type\":\"Title\"},{\"attributes\":{},\"id\":\"2584\",\"type\":\"SaveTool\"},{\"attributes\":{},\"id\":\"2581\",\"type\":\"PanTool\"},{\"attributes\":{\"axis\":{\"id\":\"2577\"},\"coordinates\":null,\"dimension\":1,\"group\":null,\"ticker\":null},\"id\":\"2580\",\"type\":\"Grid\"},{\"attributes\":{\"overlay\":{\"id\":\"2587\"}},\"id\":\"2583\",\"type\":\"BoxZoomTool\"},{\"attributes\":{\"fill_alpha\":{\"value\":0.1},\"hatch_alpha\":{\"value\":0.1},\"hatch_color\":{\"value\":\"gray\"},\"line_alpha\":{\"value\":0.1},\"line_color\":{\"value\":\"gray\"},\"size\":{\"value\":20},\"x\":{\"field\":\"x\"},\"y\":{\"field\":\"y\"}},\"id\":\"2597\",\"type\":\"Circle\"}],\"root_ids\":[\"2564\"]},\"title\":\"Bokeh Application\",\"version\":\"2.4.3\"}};\n",
       "  const render_items = [{\"docid\":\"1773a72c-f998-4375-bc31-39c071bc13bc\",\"root_ids\":[\"2564\"],\"roots\":{\"2564\":\"c89927e4-edf1-4b93-b1b9-4f2f1c201ef5\"}}];\n",
       "  root.Bokeh.embed.embed_items_notebook(docs_json, render_items);\n",
       "  }\n",
       "  if (root.Bokeh !== undefined) {\n",
       "    embed_document(root);\n",
       "  } else {\n",
       "    let attempts = 0;\n",
       "    const timer = setInterval(function(root) {\n",
       "      if (root.Bokeh !== undefined) {\n",
       "        clearInterval(timer);\n",
       "        embed_document(root);\n",
       "      } else {\n",
       "        attempts++;\n",
       "        if (attempts > 100) {\n",
       "          clearInterval(timer);\n",
       "          console.log(\"Bokeh: ERROR: Unable to run BokehJS code because BokehJS library is missing\");\n",
       "        }\n",
       "      }\n",
       "    }, 10, root)\n",
       "  }\n",
       "})(window);"
      ],
      "application/vnd.bokehjs_exec.v0+json": ""
     },
     "metadata": {
      "application/vnd.bokehjs_exec.v0+json": {
       "id": "2564"
      }
     },
     "output_type": "display_data"
    }
   ],
   "source": [
    "from bokeh.io import output_notebook\n",
    "output_notebook()\n",
    "p=figure(plot_width=400,plot_height=400)\n",
    "p.circle([1,2,3,4,5],[3,5,4,2,6],size=20,color='gray')\n",
    "show(p)"
   ]
  },
  {
   "cell_type": "code",
   "execution_count": 7,
   "id": "eb2be283",
   "metadata": {},
   "outputs": [
    {
     "data": {
      "text/html": [
       "\n",
       "  <div class=\"bk-root\" id=\"fad78984-771a-4845-b961-7c52733c111e\" data-root-id=\"1145\"></div>\n"
      ]
     },
     "metadata": {},
     "output_type": "display_data"
    },
    {
     "data": {
      "application/javascript": [
       "(function(root) {\n",
       "  function embed_document(root) {\n",
       "  const docs_json = {\"068238fa-8652-4001-b843-1f5563d3ade9\":{\"defs\":[],\"roots\":{\"references\":[{\"attributes\":{\"below\":[{\"id\":\"1154\"}],\"center\":[{\"id\":\"1157\"},{\"id\":\"1161\"}],\"height\":400,\"left\":[{\"id\":\"1158\"}],\"renderers\":[{\"id\":\"1180\"}],\"title\":{\"id\":\"1193\"},\"toolbar\":{\"id\":\"1169\"},\"width\":400,\"x_range\":{\"id\":\"1146\"},\"x_scale\":{\"id\":\"1150\"},\"y_range\":{\"id\":\"1148\"},\"y_scale\":{\"id\":\"1152\"}},\"id\":\"1145\",\"subtype\":\"Figure\",\"type\":\"Plot\"},{\"attributes\":{},\"id\":\"1167\",\"type\":\"HelpTool\"},{\"attributes\":{},\"id\":\"1196\",\"type\":\"BasicTickFormatter\"},{\"attributes\":{},\"id\":\"1146\",\"type\":\"DataRange1d\"},{\"attributes\":{\"source\":{\"id\":\"1176\"}},\"id\":\"1181\",\"type\":\"CDSView\"},{\"attributes\":{\"hatch_color\":{\"value\":\"gray\"},\"line_color\":{\"value\":\"gray\"},\"size\":{\"value\":20},\"x\":{\"field\":\"x\"},\"y\":{\"field\":\"y\"}},\"id\":\"1177\",\"type\":\"Circle\"},{\"attributes\":{},\"id\":\"1148\",\"type\":\"DataRange1d\"},{\"attributes\":{},\"id\":\"1152\",\"type\":\"LinearScale\"},{\"attributes\":{},\"id\":\"1165\",\"type\":\"SaveTool\"},{\"attributes\":{},\"id\":\"1202\",\"type\":\"Selection\"},{\"attributes\":{},\"id\":\"1159\",\"type\":\"BasicTicker\"},{\"attributes\":{},\"id\":\"1197\",\"type\":\"AllLabels\"},{\"attributes\":{\"axis\":{\"id\":\"1158\"},\"coordinates\":null,\"dimension\":1,\"group\":null,\"ticker\":null},\"id\":\"1161\",\"type\":\"Grid\"},{\"attributes\":{\"fill_alpha\":{\"value\":0.2},\"hatch_alpha\":{\"value\":0.2},\"hatch_color\":{\"value\":\"gray\"},\"line_alpha\":{\"value\":0.2},\"line_color\":{\"value\":\"gray\"},\"size\":{\"value\":20},\"x\":{\"field\":\"x\"},\"y\":{\"field\":\"y\"}},\"id\":\"1179\",\"type\":\"Circle\"},{\"attributes\":{},\"id\":\"1155\",\"type\":\"BasicTicker\"},{\"attributes\":{\"fill_alpha\":{\"value\":0.1},\"hatch_alpha\":{\"value\":0.1},\"hatch_color\":{\"value\":\"gray\"},\"line_alpha\":{\"value\":0.1},\"line_color\":{\"value\":\"gray\"},\"size\":{\"value\":20},\"x\":{\"field\":\"x\"},\"y\":{\"field\":\"y\"}},\"id\":\"1178\",\"type\":\"Circle\"},{\"attributes\":{},\"id\":\"1201\",\"type\":\"UnionRenderers\"},{\"attributes\":{},\"id\":\"1199\",\"type\":\"BasicTickFormatter\"},{\"attributes\":{\"data\":{\"x\":[1,2,3,4,5],\"y\":[3,5,4,2,6]},\"selected\":{\"id\":\"1202\"},\"selection_policy\":{\"id\":\"1201\"}},\"id\":\"1176\",\"type\":\"ColumnDataSource\"},{\"attributes\":{},\"id\":\"1200\",\"type\":\"AllLabels\"},{\"attributes\":{\"axis\":{\"id\":\"1154\"},\"coordinates\":null,\"group\":null,\"ticker\":null},\"id\":\"1157\",\"type\":\"Grid\"},{\"attributes\":{},\"id\":\"1150\",\"type\":\"LinearScale\"},{\"attributes\":{\"tools\":[{\"id\":\"1162\"},{\"id\":\"1163\"},{\"id\":\"1164\"},{\"id\":\"1165\"},{\"id\":\"1166\"},{\"id\":\"1167\"}]},\"id\":\"1169\",\"type\":\"Toolbar\"},{\"attributes\":{\"coordinates\":null,\"data_source\":{\"id\":\"1176\"},\"glyph\":{\"id\":\"1177\"},\"group\":null,\"hover_glyph\":null,\"muted_glyph\":{\"id\":\"1179\"},\"nonselection_glyph\":{\"id\":\"1178\"},\"view\":{\"id\":\"1181\"}},\"id\":\"1180\",\"type\":\"GlyphRenderer\"},{\"attributes\":{\"overlay\":{\"id\":\"1168\"}},\"id\":\"1164\",\"type\":\"BoxZoomTool\"},{\"attributes\":{\"coordinates\":null,\"formatter\":{\"id\":\"1199\"},\"group\":null,\"major_label_policy\":{\"id\":\"1200\"},\"ticker\":{\"id\":\"1155\"}},\"id\":\"1154\",\"type\":\"LinearAxis\"},{\"attributes\":{},\"id\":\"1166\",\"type\":\"ResetTool\"},{\"attributes\":{\"bottom_units\":\"screen\",\"coordinates\":null,\"fill_alpha\":0.5,\"fill_color\":\"lightgrey\",\"group\":null,\"left_units\":\"screen\",\"level\":\"overlay\",\"line_alpha\":1.0,\"line_color\":\"black\",\"line_dash\":[4,4],\"line_width\":2,\"right_units\":\"screen\",\"syncable\":false,\"top_units\":\"screen\"},\"id\":\"1168\",\"type\":\"BoxAnnotation\"},{\"attributes\":{\"coordinates\":null,\"formatter\":{\"id\":\"1196\"},\"group\":null,\"major_label_policy\":{\"id\":\"1197\"},\"ticker\":{\"id\":\"1159\"}},\"id\":\"1158\",\"type\":\"LinearAxis\"},{\"attributes\":{},\"id\":\"1162\",\"type\":\"PanTool\"},{\"attributes\":{\"coordinates\":null,\"group\":null},\"id\":\"1193\",\"type\":\"Title\"},{\"attributes\":{},\"id\":\"1163\",\"type\":\"WheelZoomTool\"}],\"root_ids\":[\"1145\"]},\"title\":\"Bokeh Application\",\"version\":\"2.4.3\"}};\n",
       "  const render_items = [{\"docid\":\"068238fa-8652-4001-b843-1f5563d3ade9\",\"root_ids\":[\"1145\"],\"roots\":{\"1145\":\"fad78984-771a-4845-b961-7c52733c111e\"}}];\n",
       "  root.Bokeh.embed.embed_items_notebook(docs_json, render_items);\n",
       "  }\n",
       "  if (root.Bokeh !== undefined) {\n",
       "    embed_document(root);\n",
       "  } else {\n",
       "    let attempts = 0;\n",
       "    const timer = setInterval(function(root) {\n",
       "      if (root.Bokeh !== undefined) {\n",
       "        clearInterval(timer);\n",
       "        embed_document(root);\n",
       "      } else {\n",
       "        attempts++;\n",
       "        if (attempts > 100) {\n",
       "          clearInterval(timer);\n",
       "          console.log(\"Bokeh: ERROR: Unable to run BokehJS code because BokehJS library is missing\");\n",
       "        }\n",
       "      }\n",
       "    }, 10, root)\n",
       "  }\n",
       "})(window);"
      ],
      "application/vnd.bokehjs_exec.v0+json": ""
     },
     "metadata": {
      "application/vnd.bokehjs_exec.v0+json": {
       "id": "1145"
      }
     },
     "output_type": "display_data"
    }
   ],
   "source": [
    "from bokeh.plotting import figure,show,output_file\n",
    "import os\n",
    "# os.chdir(\"\")\n",
    "output_file(\"line.html\")\n",
    "p=figure(plot_width=400,plot_height=400)\n",
    "p.circle([1,2,3,4,5],[3,5,4,2,6],size=20,color='gray')\n",
    "show(p)"
   ]
  },
  {
   "cell_type": "code",
   "execution_count": 8,
   "id": "ff6d25b2",
   "metadata": {},
   "outputs": [
    {
     "data": {
      "text/html": [
       "<div>\n",
       "<style scoped>\n",
       "    .dataframe tbody tr th:only-of-type {\n",
       "        vertical-align: middle;\n",
       "    }\n",
       "\n",
       "    .dataframe tbody tr th {\n",
       "        vertical-align: top;\n",
       "    }\n",
       "\n",
       "    .dataframe thead th {\n",
       "        text-align: right;\n",
       "    }\n",
       "</style>\n",
       "<table border=\"1\" class=\"dataframe\">\n",
       "  <thead>\n",
       "    <tr style=\"text-align: right;\">\n",
       "      <th></th>\n",
       "      <th>A</th>\n",
       "      <th>B</th>\n",
       "    </tr>\n",
       "  </thead>\n",
       "  <tbody>\n",
       "    <tr>\n",
       "      <th>0</th>\n",
       "      <td>0.873058</td>\n",
       "      <td>-0.459957</td>\n",
       "    </tr>\n",
       "    <tr>\n",
       "      <th>1</th>\n",
       "      <td>-1.061071</td>\n",
       "      <td>1.065692</td>\n",
       "    </tr>\n",
       "    <tr>\n",
       "      <th>2</th>\n",
       "      <td>-1.227418</td>\n",
       "      <td>-0.961864</td>\n",
       "    </tr>\n",
       "    <tr>\n",
       "      <th>3</th>\n",
       "      <td>-0.822285</td>\n",
       "      <td>-1.152273</td>\n",
       "    </tr>\n",
       "    <tr>\n",
       "      <th>4</th>\n",
       "      <td>0.039388</td>\n",
       "      <td>0.879222</td>\n",
       "    </tr>\n",
       "    <tr>\n",
       "      <th>...</th>\n",
       "      <td>...</td>\n",
       "      <td>...</td>\n",
       "    </tr>\n",
       "    <tr>\n",
       "      <th>95</th>\n",
       "      <td>-0.774067</td>\n",
       "      <td>0.900078</td>\n",
       "    </tr>\n",
       "    <tr>\n",
       "      <th>96</th>\n",
       "      <td>-1.022644</td>\n",
       "      <td>1.798900</td>\n",
       "    </tr>\n",
       "    <tr>\n",
       "      <th>97</th>\n",
       "      <td>1.122273</td>\n",
       "      <td>0.714815</td>\n",
       "    </tr>\n",
       "    <tr>\n",
       "      <th>98</th>\n",
       "      <td>1.277022</td>\n",
       "      <td>-2.421170</td>\n",
       "    </tr>\n",
       "    <tr>\n",
       "      <th>99</th>\n",
       "      <td>-1.211594</td>\n",
       "      <td>-0.707468</td>\n",
       "    </tr>\n",
       "  </tbody>\n",
       "</table>\n",
       "<p>100 rows × 2 columns</p>\n",
       "</div>"
      ],
      "text/plain": [
       "           A         B\n",
       "0   0.873058 -0.459957\n",
       "1  -1.061071  1.065692\n",
       "2  -1.227418 -0.961864\n",
       "3  -0.822285 -1.152273\n",
       "4   0.039388  0.879222\n",
       "..       ...       ...\n",
       "95 -0.774067  0.900078\n",
       "96 -1.022644  1.798900\n",
       "97  1.122273  0.714815\n",
       "98  1.277022 -2.421170\n",
       "99 -1.211594 -0.707468\n",
       "\n",
       "[100 rows x 2 columns]"
      ]
     },
     "execution_count": 8,
     "metadata": {},
     "output_type": "execute_result"
    }
   ],
   "source": [
    "df=pd.DataFrame(np.random.randn(100,2),columns=['A','B'])\n",
    "df"
   ]
  },
  {
   "cell_type": "code",
   "execution_count": 12,
   "id": "077222e7",
   "metadata": {},
   "outputs": [
    {
     "data": {
      "text/html": [
       "\n",
       "  <div class=\"bk-root\" id=\"293bbcaf-a08b-4547-9b8c-0e18bae93274\" data-root-id=\"2269\"></div>\n"
      ]
     },
     "metadata": {},
     "output_type": "display_data"
    },
    {
     "data": {
      "application/javascript": [
       "(function(root) {\n",
       "  function embed_document(root) {\n",
       "  const docs_json = {\"0473f925-0448-4dde-aa25-db13e8557796\":{\"defs\":[],\"roots\":{\"references\":[{\"attributes\":{\"below\":[{\"id\":\"2280\"}],\"center\":[{\"id\":\"2283\"},{\"id\":\"2287\"}],\"height\":400,\"left\":[{\"id\":\"2284\"}],\"renderers\":[{\"id\":\"2306\"}],\"title\":{\"id\":\"2270\"},\"toolbar\":{\"id\":\"2295\"},\"toolbar_location\":\"above\",\"x_range\":{\"id\":\"2272\"},\"x_scale\":{\"id\":\"2276\"},\"y_range\":{\"id\":\"2274\"},\"y_scale\":{\"id\":\"2278\"}},\"id\":\"2269\",\"subtype\":\"Figure\",\"type\":\"Plot\"},{\"attributes\":{},\"id\":\"2281\",\"type\":\"BasicTicker\"},{\"attributes\":{},\"id\":\"2285\",\"type\":\"BasicTicker\"},{\"attributes\":{\"overlay\":{\"id\":\"2294\"}},\"id\":\"2290\",\"type\":\"BoxZoomTool\"},{\"attributes\":{},\"id\":\"2364\",\"type\":\"BasicTickFormatter\"},{\"attributes\":{\"background_fill_color\":\"black\",\"coordinates\":null,\"group\":null,\"text\":\"\\u6d4b\\u8bd5\\u56fe\\u8868\",\"text_color\":\"white\",\"text_font\":\"times\",\"text_font_style\":\"italic\"},\"id\":\"2270\",\"type\":\"Title\"},{\"attributes\":{},\"id\":\"2365\",\"type\":\"AllLabels\"},{\"attributes\":{},\"id\":\"2276\",\"type\":\"LinearScale\"},{\"attributes\":{\"axis_label\":\"A\",\"coordinates\":null,\"formatter\":{\"id\":\"2367\"},\"group\":null,\"major_label_policy\":{\"id\":\"2368\"},\"ticker\":{\"id\":\"2281\"}},\"id\":\"2280\",\"type\":\"LinearAxis\"},{\"attributes\":{\"fill_alpha\":{\"value\":0.5},\"fill_color\":{\"value\":\"#1f77b4\"},\"hatch_alpha\":{\"value\":0.5},\"line_alpha\":{\"value\":0.5},\"line_color\":{\"value\":\"#1f77b4\"},\"size\":{\"value\":20},\"x\":{\"field\":\"x\"},\"y\":{\"field\":\"y\"}},\"id\":\"2303\",\"type\":\"Circle\"},{\"attributes\":{},\"id\":\"2367\",\"type\":\"BasicTickFormatter\"},{\"attributes\":{},\"id\":\"2368\",\"type\":\"AllLabels\"},{\"attributes\":{\"coordinates\":null,\"data_source\":{\"id\":\"2302\"},\"glyph\":{\"id\":\"2303\"},\"group\":null,\"hover_glyph\":null,\"muted_glyph\":{\"id\":\"2305\"},\"nonselection_glyph\":{\"id\":\"2304\"},\"view\":{\"id\":\"2307\"}},\"id\":\"2306\",\"type\":\"GlyphRenderer\"},{\"attributes\":{\"tools\":[{\"id\":\"2288\"},{\"id\":\"2289\"},{\"id\":\"2290\"},{\"id\":\"2291\"},{\"id\":\"2292\"},{\"id\":\"2293\"}]},\"id\":\"2295\",\"type\":\"Toolbar\"},{\"attributes\":{},\"id\":\"2289\",\"type\":\"WheelZoomTool\"},{\"attributes\":{},\"id\":\"2292\",\"type\":\"ResetTool\"},{\"attributes\":{\"axis_label\":\"B\",\"coordinates\":null,\"formatter\":{\"id\":\"2364\"},\"group\":null,\"major_label_policy\":{\"id\":\"2365\"},\"ticker\":{\"id\":\"2285\"}},\"id\":\"2284\",\"type\":\"LinearAxis\"},{\"attributes\":{},\"id\":\"2369\",\"type\":\"UnionRenderers\"},{\"attributes\":{\"fill_alpha\":{\"value\":0.2},\"fill_color\":{\"value\":\"#1f77b4\"},\"hatch_alpha\":{\"value\":0.2},\"line_alpha\":{\"value\":0.2},\"line_color\":{\"value\":\"#1f77b4\"},\"size\":{\"value\":20},\"x\":{\"field\":\"x\"},\"y\":{\"field\":\"y\"}},\"id\":\"2305\",\"type\":\"Circle\"},{\"attributes\":{},\"id\":\"2293\",\"type\":\"HelpTool\"},{\"attributes\":{},\"id\":\"2370\",\"type\":\"Selection\"},{\"attributes\":{\"bottom_units\":\"screen\",\"coordinates\":null,\"fill_alpha\":0.5,\"fill_color\":\"lightgrey\",\"group\":null,\"left_units\":\"screen\",\"level\":\"overlay\",\"line_alpha\":1.0,\"line_color\":\"black\",\"line_dash\":[4,4],\"line_width\":2,\"right_units\":\"screen\",\"syncable\":false,\"top_units\":\"screen\"},\"id\":\"2294\",\"type\":\"BoxAnnotation\"},{\"attributes\":{\"end\":3,\"start\":-3},\"id\":\"2272\",\"type\":\"Range1d\"},{\"attributes\":{},\"id\":\"2291\",\"type\":\"SaveTool\"},{\"attributes\":{\"data\":{\"x\":{\"__ndarray__\":\"mFOJyBbw6z+kDyezJfrwv3QrG1CBo/O/UtGasidQ6r+ExSIcriqkPwszU+MwreE/W5xKdSxg4T/mnia8dD7YvxRw+i9bUdO//oWWYBze478R6hs4zXKLP2b4izeris6/x/uVsHVa8b8nUlhLKmjQvzO9mbXTkv2/a7jVRMhm6r84Ok8OvZjlP5NnqhVN1vi/4IbgDJymqr/GMBhC8zPrP9VlbFHuqP0/7Ulmka+W7j/4fO+uxgXKv0bjn/Zly/O/h/mKTP2w078yw+VNnCrrP0n1Uz9pZdU/cBq7CPGx5D9w5+rcI9vnv2a6rDQb6+I/pNjY4guexz99obO0Zkf9vz6Zu8kfqvA/Jodfdeyw+7+gyQmSpiXmP2/8NvMpCeg/C7Wzyaya4b/FBduGObPIv/cosXGi59q/wiQyqEYJ+7+tZF9tps/yP2KJMP3J/+6/icFwm8adyz9GDiVoPpfqv4qYeuUuUfO/JGYc8B5e+7+jm36QAxXhP65fYJubc8a/esbgi6IH+D+VoTzwa0zsvz2stob/e+c/8xzp1JdK978Y6Os9WzbSP8ISqURhRvs/JagNEgIe9b8dV3WhTLHjvxmJlrErjt2/vV92W+AH+D+edflgZK/1P5Z9DBJQDuM/o/FQ464EAcCyYG5783sBwGBwySq4G9C/vMxp1CMp7L+dZe0o8TLUPxxCnBdkFdq/K2J8Y9/y9L82Y9BtykXpv2PWWo1nMqK/P/bijqU0xz93bkfvRdvfPxkDcBe+Ruy/VctSZP8e478hUS4c5nXBv8hcCDd30+u/U+kKKjbm9b/WpvBm1jIJQCoM++6gFgZAGD7MPCye27+tLqkWnvTJP7ycEo3kQN2/SizgNjN2rL8fiji72dDWv7SMXZo3e+a/zynINgoj0j9Ud9gpEjv+v93piIXWtNO/Hl62sCY/6b/ZD++q3yjpP0LksvPBOLy//UrR19hg1L8LIvm741C2v7bBSX0ap+u/rEnGB00ipL/N2Tswifbuv5qp70gnxei/mR0Wzr9c8L+SLYlc1PTxPz8ntlKubvQ/7FjWF7Bi878=\",\"dtype\":\"float64\",\"order\":\"little\",\"shape\":[100]},\"y\":{\"__ndarray__\":\"cZ8C/+1v3b8gdUaVEg3xP+Ra+xSWx+6/YkqjU7Zv8r907NU4lSLsPxN7lt8Km70/+7ecflgN+r9XFINJZu/jP8BY8KKsh/A/sOGegm+14L/EinY3teTwvwoDhsNOddY/oOXjlkg75j8vwoeTB3wFwG/wtoQNt+i/r4dsdCLMt797MZ00SafzvwDkMetMhuY/417z1Eu2yL/v1EmMS33JP95V8j+HgOa/WRJfmind8D9GZUgga7/Gv6fHTJeRedW/tllS+8bU9b+SMYJhcILvv2eX9b8Cyug/8mA81I+56D/0x3G4PVzcvyORV3qEXfO/gpfepCUB2r8XcF0BEM/Jv8Z6evyBc9m/m/sav3oA7r8CYp+vpGT2Pyaer0OMc/m/KOBqsZsk6T97KqEnbVziPzSwcCbR5d2/TKDMFe4t9L/qyyQR2KjIvytr7jdKley/vUYeaywq5T8peNNzn6rLP6OLaFMugfG/m9xsytCj2b8fui/pZHJ2Pxn2oK7LaOW/3t/Mqtgd9L9vqHNlLHLYP6+MhAKpWe2/WPefdkOnwj9XLunVZn7jv8SBHHnNBfo/u4Pp+zTssD/4WEekEwahv2AOJeRKp/y/oJYLKLg0AkDjeTvVbjv0P0bW1MNTK+e/SXhCS/OP+z8KwM0QsF/KP6S1qzToJNw/HExz52C49r/s1PHX2fv8v5xh5aU+wwRAoKvm/HkTx7/s5TXcj+flv01L14OvO+O/mHIFtfhXzb+zvgVXuazyv9DYCvcMZP8/+xqHV/qB9L96S5yJlqDSP05VtOxG8Oa/23ga1P5yob+9Ho06ZibUv+6xJFmidu8/VyQ2MMw8yj8jLSHnUOzUv/nMFrKj+90/4iktrHxBxL+up9/0wYjxvwD4yyk/NQDADuP7zfaS0D8dNTgnaTe3v+lIGGJyvd2/mWMQJ3NE6z96ToGdXc3yv4xiZT3NBNm/p0vD02K9A8BUDyHdjSR7PzpWHSnvwABA7gOSb6GC7z9ZhpJIbiLnP9cVe0xxzew/C3HN2UvI/D9ES0nXwt/mPxvUnDuOXgPAKQV5vZSj5r8=\",\"dtype\":\"float64\",\"order\":\"little\",\"shape\":[100]}},\"selected\":{\"id\":\"2370\"},\"selection_policy\":{\"id\":\"2369\"}},\"id\":\"2302\",\"type\":\"ColumnDataSource\"},{\"attributes\":{},\"id\":\"2288\",\"type\":\"PanTool\"},{\"attributes\":{\"end\":3,\"start\":-3},\"id\":\"2274\",\"type\":\"Range1d\"},{\"attributes\":{\"source\":{\"id\":\"2302\"}},\"id\":\"2307\",\"type\":\"CDSView\"},{\"attributes\":{},\"id\":\"2278\",\"type\":\"LinearScale\"},{\"attributes\":{\"axis\":{\"id\":\"2280\"},\"coordinates\":null,\"group\":null,\"ticker\":null},\"id\":\"2283\",\"type\":\"Grid\"},{\"attributes\":{\"axis\":{\"id\":\"2284\"},\"coordinates\":null,\"dimension\":1,\"group\":null,\"ticker\":null},\"id\":\"2287\",\"type\":\"Grid\"},{\"attributes\":{\"fill_alpha\":{\"value\":0.1},\"fill_color\":{\"value\":\"#1f77b4\"},\"hatch_alpha\":{\"value\":0.1},\"line_alpha\":{\"value\":0.1},\"line_color\":{\"value\":\"#1f77b4\"},\"size\":{\"value\":20},\"x\":{\"field\":\"x\"},\"y\":{\"field\":\"y\"}},\"id\":\"2304\",\"type\":\"Circle\"}],\"root_ids\":[\"2269\"]},\"title\":\"Bokeh Application\",\"version\":\"2.4.3\"}};\n",
       "  const render_items = [{\"docid\":\"0473f925-0448-4dde-aa25-db13e8557796\",\"root_ids\":[\"2269\"],\"roots\":{\"2269\":\"293bbcaf-a08b-4547-9b8c-0e18bae93274\"}}];\n",
       "  root.Bokeh.embed.embed_items_notebook(docs_json, render_items);\n",
       "  }\n",
       "  if (root.Bokeh !== undefined) {\n",
       "    embed_document(root);\n",
       "  } else {\n",
       "    let attempts = 0;\n",
       "    const timer = setInterval(function(root) {\n",
       "      if (root.Bokeh !== undefined) {\n",
       "        clearInterval(timer);\n",
       "        embed_document(root);\n",
       "      } else {\n",
       "        attempts++;\n",
       "        if (attempts > 100) {\n",
       "          clearInterval(timer);\n",
       "          console.log(\"Bokeh: ERROR: Unable to run BokehJS code because BokehJS library is missing\");\n",
       "        }\n",
       "      }\n",
       "    }, 10, root)\n",
       "  }\n",
       "})(window);"
      ],
      "application/vnd.bokehjs_exec.v0+json": ""
     },
     "metadata": {
      "application/vnd.bokehjs_exec.v0+json": {
       "id": "2269"
      }
     },
     "output_type": "display_data"
    }
   ],
   "source": [
    "p=figure(plot_width=600,plot_height=400,\n",
    "        tools=\"pan,wheel_zoom,box_zoom,save,reset,help\",\n",
    "        toolbar_location='above',\n",
    "        x_axis_label='A',\n",
    "        y_axis_label='B',\n",
    "        x_range=[-3,3],\n",
    "        y_range=[-3,3],\n",
    "        title=\"测试图表\")\n",
    "p.circle(df['A'],df['B'],size=20,alpha=0.5)\n",
    "p.title.text_color=\"white\"\n",
    "p.title.text_font=\"times\"\n",
    "p.title.text_font_style=\"italic\"\n",
    "p.title.background_fill_color=\"black\"\n",
    "show(p)"
   ]
  },
  {
   "cell_type": "code",
   "execution_count": 14,
   "id": "dfe0d417",
   "metadata": {},
   "outputs": [
    {
     "data": {
      "text/html": [
       "\n",
       "  <div class=\"bk-root\" id=\"9259f977-25e8-45b0-a929-4f6b9619eb3f\" data-root-id=\"2886\"></div>\n"
      ]
     },
     "metadata": {},
     "output_type": "display_data"
    },
    {
     "data": {
      "application/javascript": [
       "(function(root) {\n",
       "  function embed_document(root) {\n",
       "  const docs_json = {\"98596662-e802-4bd7-8412-64167ea039fa\":{\"defs\":[],\"roots\":{\"references\":[{\"attributes\":{\"below\":[{\"id\":\"2895\"}],\"center\":[{\"id\":\"2898\"},{\"id\":\"2902\"}],\"height\":400,\"left\":[{\"id\":\"2899\"}],\"renderers\":[{\"id\":\"2921\"},{\"id\":\"2927\"}],\"title\":{\"id\":\"3004\"},\"toolbar\":{\"id\":\"2910\"},\"x_range\":{\"id\":\"2887\"},\"x_scale\":{\"id\":\"2891\"},\"y_range\":{\"id\":\"2889\"},\"y_scale\":{\"id\":\"2893\"}},\"id\":\"2886\",\"subtype\":\"Figure\",\"type\":\"Plot\"},{\"attributes\":{\"fill_alpha\":{\"value\":0.2},\"fill_color\":{\"value\":\"#FF0000\"},\"hatch_alpha\":{\"value\":0.2},\"hatch_color\":{\"value\":\"#FF0000\"},\"line_alpha\":{\"value\":0.2},\"line_color\":{\"value\":\"#FF0000\"},\"size\":{\"value\":10},\"x\":{\"field\":\"x\"},\"y\":{\"field\":\"y\"}},\"id\":\"2926\",\"type\":\"Circle\"},{\"attributes\":{\"coordinates\":null,\"group\":null},\"id\":\"3004\",\"type\":\"Title\"},{\"attributes\":{\"tools\":[{\"id\":\"2903\"},{\"id\":\"2904\"},{\"id\":\"2905\"},{\"id\":\"2906\"},{\"id\":\"2907\"},{\"id\":\"2908\"}]},\"id\":\"2910\",\"type\":\"Toolbar\"},{\"attributes\":{},\"id\":\"3007\",\"type\":\"BasicTickFormatter\"},{\"attributes\":{},\"id\":\"3012\",\"type\":\"UnionRenderers\"},{\"attributes\":{\"axis\":{\"id\":\"2899\"},\"coordinates\":null,\"dimension\":1,\"group\":null,\"ticker\":null},\"id\":\"2902\",\"type\":\"Grid\"},{\"attributes\":{\"fill_alpha\":{\"value\":0.1},\"fill_color\":{\"value\":\"#FF0000\"},\"hatch_alpha\":{\"value\":0.1},\"hatch_color\":{\"value\":\"#FF0000\"},\"line_alpha\":{\"value\":0.1},\"line_color\":{\"value\":\"#FF0000\"},\"size\":{\"value\":10},\"x\":{\"field\":\"x\"},\"y\":{\"field\":\"y\"}},\"id\":\"2925\",\"type\":\"Circle\"},{\"attributes\":{\"coordinates\":null,\"data_source\":{\"id\":\"2917\"},\"glyph\":{\"id\":\"2918\"},\"group\":null,\"hover_glyph\":null,\"muted_glyph\":{\"id\":\"2920\"},\"nonselection_glyph\":{\"id\":\"2919\"},\"view\":{\"id\":\"2922\"}},\"id\":\"2921\",\"type\":\"GlyphRenderer\"},{\"attributes\":{\"fill_alpha\":{\"value\":0.2},\"fill_color\":{\"value\":\"green\"},\"hatch_alpha\":{\"value\":0.2},\"hatch_color\":{\"value\":\"green\"},\"line_alpha\":{\"value\":0.2},\"line_color\":{\"value\":\"green\"},\"size\":{\"value\":10},\"x\":{\"field\":\"x\"},\"y\":{\"field\":\"y\"}},\"id\":\"2920\",\"type\":\"Circle\"},{\"attributes\":{},\"id\":\"3013\",\"type\":\"Selection\"},{\"attributes\":{},\"id\":\"2906\",\"type\":\"SaveTool\"},{\"attributes\":{},\"id\":\"3014\",\"type\":\"UnionRenderers\"},{\"attributes\":{},\"id\":\"3015\",\"type\":\"Selection\"},{\"attributes\":{},\"id\":\"2907\",\"type\":\"ResetTool\"},{\"attributes\":{},\"id\":\"2900\",\"type\":\"BasicTicker\"},{\"attributes\":{\"data\":{\"x\":[0,1,2,3,4,5,6,7,8,9,10,11,12,13,14,15,16,17,18,19,20,21,22,23,24,25,26,27,28,29,30,31,32,33,34,35,36,37,38,39,40,41,42,43,44,45,46,47,48,49,50,51,52,53,54,55,56,57,58,59,60,61,62,63,64,65,66,67,68,69,70,71,72,73,74,75,76,77,78,79,80,81,82,83,84,85,86,87,88,89,90,91,92,93,94,95,96,97,98,99],\"y\":{\"__ndarray__\":\"mFOJyBbw6z+kDyezJfrwv3QrG1CBo/O/UtGasidQ6r+ExSIcriqkPwszU+MwreE/W5xKdSxg4T/mnia8dD7YvxRw+i9bUdO//oWWYBze478R6hs4zXKLP2b4izeris6/x/uVsHVa8b8nUlhLKmjQvzO9mbXTkv2/a7jVRMhm6r84Ok8OvZjlP5NnqhVN1vi/4IbgDJymqr/GMBhC8zPrP9VlbFHuqP0/7Ulmka+W7j/4fO+uxgXKv0bjn/Zly/O/h/mKTP2w078yw+VNnCrrP0n1Uz9pZdU/cBq7CPGx5D9w5+rcI9vnv2a6rDQb6+I/pNjY4guexz99obO0Zkf9vz6Zu8kfqvA/Jodfdeyw+7+gyQmSpiXmP2/8NvMpCeg/C7Wzyaya4b/FBduGObPIv/cosXGi59q/wiQyqEYJ+7+tZF9tps/yP2KJMP3J/+6/icFwm8adyz9GDiVoPpfqv4qYeuUuUfO/JGYc8B5e+7+jm36QAxXhP65fYJubc8a/esbgi6IH+D+VoTzwa0zsvz2stob/e+c/8xzp1JdK978Y6Os9WzbSP8ISqURhRvs/JagNEgIe9b8dV3WhTLHjvxmJlrErjt2/vV92W+AH+D+edflgZK/1P5Z9DBJQDuM/o/FQ464EAcCyYG5783sBwGBwySq4G9C/vMxp1CMp7L+dZe0o8TLUPxxCnBdkFdq/K2J8Y9/y9L82Y9BtykXpv2PWWo1nMqK/P/bijqU0xz93bkfvRdvfPxkDcBe+Ruy/VctSZP8e478hUS4c5nXBv8hcCDd30+u/U+kKKjbm9b/WpvBm1jIJQCoM++6gFgZAGD7MPCye27+tLqkWnvTJP7ycEo3kQN2/SizgNjN2rL8fiji72dDWv7SMXZo3e+a/zynINgoj0j9Ud9gpEjv+v93piIXWtNO/Hl62sCY/6b/ZD++q3yjpP0LksvPBOLy//UrR19hg1L8LIvm741C2v7bBSX0ap+u/rEnGB00ipL/N2Tswifbuv5qp70gnxei/mR0Wzr9c8L+SLYlc1PTxPz8ntlKubvQ/7FjWF7Bi878=\",\"dtype\":\"float64\",\"order\":\"little\",\"shape\":[100]}},\"selected\":{\"id\":\"3013\"},\"selection_policy\":{\"id\":\"3012\"}},\"id\":\"2917\",\"type\":\"ColumnDataSource\"},{\"attributes\":{},\"id\":\"2904\",\"type\":\"WheelZoomTool\"},{\"attributes\":{},\"id\":\"2903\",\"type\":\"PanTool\"},{\"attributes\":{},\"id\":\"2887\",\"type\":\"DataRange1d\"},{\"attributes\":{\"fill_alpha\":{\"value\":0.5},\"fill_color\":{\"value\":\"#FF0000\"},\"hatch_alpha\":{\"value\":0.5},\"hatch_color\":{\"value\":\"#FF0000\"},\"line_alpha\":{\"value\":0.5},\"line_color\":{\"value\":\"#FF0000\"},\"size\":{\"value\":10},\"x\":{\"field\":\"x\"},\"y\":{\"field\":\"y\"}},\"id\":\"2924\",\"type\":\"Circle\"},{\"attributes\":{},\"id\":\"3010\",\"type\":\"BasicTickFormatter\"},{\"attributes\":{\"bottom_units\":\"screen\",\"coordinates\":null,\"fill_alpha\":0.5,\"fill_color\":\"lightgrey\",\"group\":null,\"left_units\":\"screen\",\"level\":\"overlay\",\"line_alpha\":1.0,\"line_color\":\"black\",\"line_dash\":[4,4],\"line_width\":2,\"right_units\":\"screen\",\"syncable\":false,\"top_units\":\"screen\"},\"id\":\"2909\",\"type\":\"BoxAnnotation\"},{\"attributes\":{\"fill_alpha\":{\"value\":0.5},\"fill_color\":{\"value\":\"green\"},\"hatch_alpha\":{\"value\":0.5},\"hatch_color\":{\"value\":\"green\"},\"line_alpha\":{\"value\":0.5},\"line_color\":{\"value\":\"green\"},\"size\":{\"value\":10},\"x\":{\"field\":\"x\"},\"y\":{\"field\":\"y\"}},\"id\":\"2918\",\"type\":\"Circle\"},{\"attributes\":{\"coordinates\":null,\"formatter\":{\"id\":\"3007\"},\"group\":null,\"major_label_policy\":{\"id\":\"3008\"},\"ticker\":{\"id\":\"2900\"}},\"id\":\"2899\",\"type\":\"LinearAxis\"},{\"attributes\":{},\"id\":\"3011\",\"type\":\"AllLabels\"},{\"attributes\":{},\"id\":\"3008\",\"type\":\"AllLabels\"},{\"attributes\":{\"source\":{\"id\":\"2917\"}},\"id\":\"2922\",\"type\":\"CDSView\"},{\"attributes\":{\"data\":{\"x\":[0,1,2,3,4,5,6,7,8,9,10,11,12,13,14,15,16,17,18,19,20,21,22,23,24,25,26,27,28,29,30,31,32,33,34,35,36,37,38,39,40,41,42,43,44,45,46,47,48,49,50,51,52,53,54,55,56,57,58,59,60,61,62,63,64,65,66,67,68,69,70,71,72,73,74,75,76,77,78,79,80,81,82,83,84,85,86,87,88,89,90,91,92,93,94,95,96,97,98,99],\"y\":{\"__ndarray__\":\"cZ8C/+1v3b8gdUaVEg3xP+Ra+xSWx+6/YkqjU7Zv8r907NU4lSLsPxN7lt8Km70/+7ecflgN+r9XFINJZu/jP8BY8KKsh/A/sOGegm+14L/EinY3teTwvwoDhsNOddY/oOXjlkg75j8vwoeTB3wFwG/wtoQNt+i/r4dsdCLMt797MZ00SafzvwDkMetMhuY/417z1Eu2yL/v1EmMS33JP95V8j+HgOa/WRJfmind8D9GZUgga7/Gv6fHTJeRedW/tllS+8bU9b+SMYJhcILvv2eX9b8Cyug/8mA81I+56D/0x3G4PVzcvyORV3qEXfO/gpfepCUB2r8XcF0BEM/Jv8Z6evyBc9m/m/sav3oA7r8CYp+vpGT2Pyaer0OMc/m/KOBqsZsk6T97KqEnbVziPzSwcCbR5d2/TKDMFe4t9L/qyyQR2KjIvytr7jdKley/vUYeaywq5T8peNNzn6rLP6OLaFMugfG/m9xsytCj2b8fui/pZHJ2Pxn2oK7LaOW/3t/Mqtgd9L9vqHNlLHLYP6+MhAKpWe2/WPefdkOnwj9XLunVZn7jv8SBHHnNBfo/u4Pp+zTssD/4WEekEwahv2AOJeRKp/y/oJYLKLg0AkDjeTvVbjv0P0bW1MNTK+e/SXhCS/OP+z8KwM0QsF/KP6S1qzToJNw/HExz52C49r/s1PHX2fv8v5xh5aU+wwRAoKvm/HkTx7/s5TXcj+flv01L14OvO+O/mHIFtfhXzb+zvgVXuazyv9DYCvcMZP8/+xqHV/qB9L96S5yJlqDSP05VtOxG8Oa/23ga1P5yob+9Ho06ZibUv+6xJFmidu8/VyQ2MMw8yj8jLSHnUOzUv/nMFrKj+90/4iktrHxBxL+up9/0wYjxvwD4yyk/NQDADuP7zfaS0D8dNTgnaTe3v+lIGGJyvd2/mWMQJ3NE6z96ToGdXc3yv4xiZT3NBNm/p0vD02K9A8BUDyHdjSR7PzpWHSnvwABA7gOSb6GC7z9ZhpJIbiLnP9cVe0xxzew/C3HN2UvI/D9ES0nXwt/mPxvUnDuOXgPAKQV5vZSj5r8=\",\"dtype\":\"float64\",\"order\":\"little\",\"shape\":[100]}},\"selected\":{\"id\":\"3015\"},\"selection_policy\":{\"id\":\"3014\"}},\"id\":\"2923\",\"type\":\"ColumnDataSource\"},{\"attributes\":{\"source\":{\"id\":\"2923\"}},\"id\":\"2928\",\"type\":\"CDSView\"},{\"attributes\":{\"axis\":{\"id\":\"2895\"},\"coordinates\":null,\"group\":null,\"ticker\":null},\"id\":\"2898\",\"type\":\"Grid\"},{\"attributes\":{},\"id\":\"2908\",\"type\":\"HelpTool\"},{\"attributes\":{\"overlay\":{\"id\":\"2909\"}},\"id\":\"2905\",\"type\":\"BoxZoomTool\"},{\"attributes\":{\"coordinates\":null,\"formatter\":{\"id\":\"3010\"},\"group\":null,\"major_label_policy\":{\"id\":\"3011\"},\"ticker\":{\"id\":\"2896\"}},\"id\":\"2895\",\"type\":\"LinearAxis\"},{\"attributes\":{\"fill_alpha\":{\"value\":0.1},\"fill_color\":{\"value\":\"green\"},\"hatch_alpha\":{\"value\":0.1},\"hatch_color\":{\"value\":\"green\"},\"line_alpha\":{\"value\":0.1},\"line_color\":{\"value\":\"green\"},\"size\":{\"value\":10},\"x\":{\"field\":\"x\"},\"y\":{\"field\":\"y\"}},\"id\":\"2919\",\"type\":\"Circle\"},{\"attributes\":{},\"id\":\"2893\",\"type\":\"LinearScale\"},{\"attributes\":{\"coordinates\":null,\"data_source\":{\"id\":\"2923\"},\"glyph\":{\"id\":\"2924\"},\"group\":null,\"hover_glyph\":null,\"muted_glyph\":{\"id\":\"2926\"},\"nonselection_glyph\":{\"id\":\"2925\"},\"view\":{\"id\":\"2928\"}},\"id\":\"2927\",\"type\":\"GlyphRenderer\"},{\"attributes\":{},\"id\":\"2896\",\"type\":\"BasicTicker\"},{\"attributes\":{},\"id\":\"2891\",\"type\":\"LinearScale\"},{\"attributes\":{},\"id\":\"2889\",\"type\":\"DataRange1d\"}],\"root_ids\":[\"2886\"]},\"title\":\"Bokeh Application\",\"version\":\"2.4.3\"}};\n",
       "  const render_items = [{\"docid\":\"98596662-e802-4bd7-8412-64167ea039fa\",\"root_ids\":[\"2886\"],\"roots\":{\"2886\":\"9259f977-25e8-45b0-a929-4f6b9619eb3f\"}}];\n",
       "  root.Bokeh.embed.embed_items_notebook(docs_json, render_items);\n",
       "  }\n",
       "  if (root.Bokeh !== undefined) {\n",
       "    embed_document(root);\n",
       "  } else {\n",
       "    let attempts = 0;\n",
       "    const timer = setInterval(function(root) {\n",
       "      if (root.Bokeh !== undefined) {\n",
       "        clearInterval(timer);\n",
       "        embed_document(root);\n",
       "      } else {\n",
       "        attempts++;\n",
       "        if (attempts > 100) {\n",
       "          clearInterval(timer);\n",
       "          console.log(\"Bokeh: ERROR: Unable to run BokehJS code because BokehJS library is missing\");\n",
       "        }\n",
       "      }\n",
       "    }, 10, root)\n",
       "  }\n",
       "})(window);"
      ],
      "application/vnd.bokehjs_exec.v0+json": ""
     },
     "metadata": {
      "application/vnd.bokehjs_exec.v0+json": {
       "id": "2886"
      }
     },
     "output_type": "display_data"
    }
   ],
   "source": [
    "p=figure(plot_width=600,plot_height=400)\n",
    "p.circle(df.index,df['A'],color='green',size=10,alpha=0.5)\n",
    "p.circle(df.index,df['B'],color='#FF0000',size=10,alpha=0.5)\n",
    "show(p)"
   ]
  },
  {
   "cell_type": "code",
   "execution_count": 15,
   "id": "6c8c908d",
   "metadata": {},
   "outputs": [
    {
     "data": {
      "text/html": [
       "\n",
       "  <div class=\"bk-root\" id=\"f0715952-0b5b-4dc2-ac89-8860d0ab0883\" data-root-id=\"3265\"></div>\n"
      ]
     },
     "metadata": {},
     "output_type": "display_data"
    },
    {
     "data": {
      "application/javascript": [
       "(function(root) {\n",
       "  function embed_document(root) {\n",
       "  const docs_json = {\"8e17b6ee-2abe-47cc-821b-3b074240b5b8\":{\"defs\":[],\"roots\":{\"references\":[{\"attributes\":{\"below\":[{\"id\":\"3274\"}],\"center\":[{\"id\":\"3277\"},{\"id\":\"3281\"}],\"height\":400,\"left\":[{\"id\":\"3278\"}],\"outline_line_alpha\":0.3,\"outline_line_color\":\"navy\",\"outline_line_dash\":[6,4],\"outline_line_width\":7,\"renderers\":[{\"id\":\"3300\"},{\"id\":\"3306\"}],\"title\":{\"id\":\"3396\"},\"toolbar\":{\"id\":\"3289\"},\"x_range\":{\"id\":\"3266\"},\"x_scale\":{\"id\":\"3270\"},\"y_range\":{\"id\":\"3268\"},\"y_scale\":{\"id\":\"3272\"}},\"id\":\"3265\",\"subtype\":\"Figure\",\"type\":\"Plot\"},{\"attributes\":{},\"id\":\"3270\",\"type\":\"LinearScale\"},{\"attributes\":{},\"id\":\"3404\",\"type\":\"UnionRenderers\"},{\"attributes\":{},\"id\":\"3272\",\"type\":\"LinearScale\"},{\"attributes\":{},\"id\":\"3405\",\"type\":\"Selection\"},{\"attributes\":{\"source\":{\"id\":\"3302\"}},\"id\":\"3307\",\"type\":\"CDSView\"},{\"attributes\":{\"coordinates\":null,\"formatter\":{\"id\":\"3402\"},\"group\":null,\"major_label_policy\":{\"id\":\"3403\"},\"ticker\":{\"id\":\"3275\"}},\"id\":\"3274\",\"type\":\"LinearAxis\"},{\"attributes\":{},\"id\":\"3268\",\"type\":\"DataRange1d\"},{\"attributes\":{\"data\":{\"x\":[0,1,2,3,4,5,6,7,8,9,10,11,12,13,14,15,16,17,18,19,20,21,22,23,24,25,26,27,28,29,30,31,32,33,34,35,36,37,38,39,40,41,42,43,44,45,46,47,48,49,50,51,52,53,54,55,56,57,58,59,60,61,62,63,64,65,66,67,68,69,70,71,72,73,74,75,76,77,78,79,80,81,82,83,84,85,86,87,88,89,90,91,92,93,94,95,96,97,98,99],\"y\":{\"__ndarray__\":\"cZ8C/+1v3b8gdUaVEg3xP+Ra+xSWx+6/YkqjU7Zv8r907NU4lSLsPxN7lt8Km70/+7ecflgN+r9XFINJZu/jP8BY8KKsh/A/sOGegm+14L/EinY3teTwvwoDhsNOddY/oOXjlkg75j8vwoeTB3wFwG/wtoQNt+i/r4dsdCLMt797MZ00SafzvwDkMetMhuY/417z1Eu2yL/v1EmMS33JP95V8j+HgOa/WRJfmind8D9GZUgga7/Gv6fHTJeRedW/tllS+8bU9b+SMYJhcILvv2eX9b8Cyug/8mA81I+56D/0x3G4PVzcvyORV3qEXfO/gpfepCUB2r8XcF0BEM/Jv8Z6evyBc9m/m/sav3oA7r8CYp+vpGT2Pyaer0OMc/m/KOBqsZsk6T97KqEnbVziPzSwcCbR5d2/TKDMFe4t9L/qyyQR2KjIvytr7jdKley/vUYeaywq5T8peNNzn6rLP6OLaFMugfG/m9xsytCj2b8fui/pZHJ2Pxn2oK7LaOW/3t/Mqtgd9L9vqHNlLHLYP6+MhAKpWe2/WPefdkOnwj9XLunVZn7jv8SBHHnNBfo/u4Pp+zTssD/4WEekEwahv2AOJeRKp/y/oJYLKLg0AkDjeTvVbjv0P0bW1MNTK+e/SXhCS/OP+z8KwM0QsF/KP6S1qzToJNw/HExz52C49r/s1PHX2fv8v5xh5aU+wwRAoKvm/HkTx7/s5TXcj+flv01L14OvO+O/mHIFtfhXzb+zvgVXuazyv9DYCvcMZP8/+xqHV/qB9L96S5yJlqDSP05VtOxG8Oa/23ga1P5yob+9Ho06ZibUv+6xJFmidu8/VyQ2MMw8yj8jLSHnUOzUv/nMFrKj+90/4iktrHxBxL+up9/0wYjxvwD4yyk/NQDADuP7zfaS0D8dNTgnaTe3v+lIGGJyvd2/mWMQJ3NE6z96ToGdXc3yv4xiZT3NBNm/p0vD02K9A8BUDyHdjSR7PzpWHSnvwABA7gOSb6GC7z9ZhpJIbiLnP9cVe0xxzew/C3HN2UvI/D9ES0nXwt/mPxvUnDuOXgPAKQV5vZSj5r8=\",\"dtype\":\"float64\",\"order\":\"little\",\"shape\":[100]}},\"selected\":{\"id\":\"3407\"},\"selection_policy\":{\"id\":\"3406\"}},\"id\":\"3302\",\"type\":\"ColumnDataSource\"},{\"attributes\":{},\"id\":\"3266\",\"type\":\"DataRange1d\"},{\"attributes\":{\"coordinates\":null,\"data_source\":{\"id\":\"3302\"},\"glyph\":{\"id\":\"3303\"},\"group\":null,\"hover_glyph\":null,\"muted_glyph\":{\"id\":\"3305\"},\"nonselection_glyph\":{\"id\":\"3304\"},\"view\":{\"id\":\"3307\"}},\"id\":\"3306\",\"type\":\"GlyphRenderer\"},{\"attributes\":{\"fill_alpha\":{\"value\":0.1},\"fill_color\":{\"value\":\"#FF0000\"},\"hatch_alpha\":{\"value\":0.1},\"hatch_color\":{\"value\":\"#FF0000\"},\"line_alpha\":{\"value\":0.1},\"line_color\":{\"value\":\"#FF0000\"},\"size\":{\"value\":10},\"x\":{\"field\":\"x\"},\"y\":{\"field\":\"y\"}},\"id\":\"3304\",\"type\":\"Circle\"},{\"attributes\":{\"source\":{\"id\":\"3296\"}},\"id\":\"3301\",\"type\":\"CDSView\"},{\"attributes\":{\"fill_alpha\":{\"value\":0.5},\"fill_color\":{\"value\":\"#FF0000\"},\"hatch_alpha\":{\"value\":0.5},\"hatch_color\":{\"value\":\"#FF0000\"},\"line_alpha\":{\"value\":0.5},\"line_color\":{\"value\":\"#FF0000\"},\"size\":{\"value\":10},\"x\":{\"field\":\"x\"},\"y\":{\"field\":\"y\"}},\"id\":\"3303\",\"type\":\"Circle\"},{\"attributes\":{\"axis\":{\"id\":\"3274\"},\"coordinates\":null,\"group\":null,\"ticker\":null},\"id\":\"3277\",\"type\":\"Grid\"},{\"attributes\":{\"coordinates\":null,\"group\":null},\"id\":\"3396\",\"type\":\"Title\"},{\"attributes\":{\"data\":{\"x\":[0,1,2,3,4,5,6,7,8,9,10,11,12,13,14,15,16,17,18,19,20,21,22,23,24,25,26,27,28,29,30,31,32,33,34,35,36,37,38,39,40,41,42,43,44,45,46,47,48,49,50,51,52,53,54,55,56,57,58,59,60,61,62,63,64,65,66,67,68,69,70,71,72,73,74,75,76,77,78,79,80,81,82,83,84,85,86,87,88,89,90,91,92,93,94,95,96,97,98,99],\"y\":{\"__ndarray__\":\"mFOJyBbw6z+kDyezJfrwv3QrG1CBo/O/UtGasidQ6r+ExSIcriqkPwszU+MwreE/W5xKdSxg4T/mnia8dD7YvxRw+i9bUdO//oWWYBze478R6hs4zXKLP2b4izeris6/x/uVsHVa8b8nUlhLKmjQvzO9mbXTkv2/a7jVRMhm6r84Ok8OvZjlP5NnqhVN1vi/4IbgDJymqr/GMBhC8zPrP9VlbFHuqP0/7Ulmka+W7j/4fO+uxgXKv0bjn/Zly/O/h/mKTP2w078yw+VNnCrrP0n1Uz9pZdU/cBq7CPGx5D9w5+rcI9vnv2a6rDQb6+I/pNjY4guexz99obO0Zkf9vz6Zu8kfqvA/Jodfdeyw+7+gyQmSpiXmP2/8NvMpCeg/C7Wzyaya4b/FBduGObPIv/cosXGi59q/wiQyqEYJ+7+tZF9tps/yP2KJMP3J/+6/icFwm8adyz9GDiVoPpfqv4qYeuUuUfO/JGYc8B5e+7+jm36QAxXhP65fYJubc8a/esbgi6IH+D+VoTzwa0zsvz2stob/e+c/8xzp1JdK978Y6Os9WzbSP8ISqURhRvs/JagNEgIe9b8dV3WhTLHjvxmJlrErjt2/vV92W+AH+D+edflgZK/1P5Z9DBJQDuM/o/FQ464EAcCyYG5783sBwGBwySq4G9C/vMxp1CMp7L+dZe0o8TLUPxxCnBdkFdq/K2J8Y9/y9L82Y9BtykXpv2PWWo1nMqK/P/bijqU0xz93bkfvRdvfPxkDcBe+Ruy/VctSZP8e478hUS4c5nXBv8hcCDd30+u/U+kKKjbm9b/WpvBm1jIJQCoM++6gFgZAGD7MPCye27+tLqkWnvTJP7ycEo3kQN2/SizgNjN2rL8fiji72dDWv7SMXZo3e+a/zynINgoj0j9Ud9gpEjv+v93piIXWtNO/Hl62sCY/6b/ZD++q3yjpP0LksvPBOLy//UrR19hg1L8LIvm741C2v7bBSX0ap+u/rEnGB00ipL/N2Tswifbuv5qp70gnxei/mR0Wzr9c8L+SLYlc1PTxPz8ntlKubvQ/7FjWF7Bi878=\",\"dtype\":\"float64\",\"order\":\"little\",\"shape\":[100]}},\"selected\":{\"id\":\"3405\"},\"selection_policy\":{\"id\":\"3404\"}},\"id\":\"3296\",\"type\":\"ColumnDataSource\"},{\"attributes\":{\"fill_alpha\":{\"value\":0.5},\"fill_color\":{\"value\":\"green\"},\"hatch_alpha\":{\"value\":0.5},\"hatch_color\":{\"value\":\"green\"},\"line_alpha\":{\"value\":0.5},\"line_color\":{\"value\":\"green\"},\"size\":{\"value\":10},\"x\":{\"field\":\"x\"},\"y\":{\"field\":\"y\"}},\"id\":\"3297\",\"type\":\"Circle\"},{\"attributes\":{},\"id\":\"3399\",\"type\":\"BasicTickFormatter\"},{\"attributes\":{},\"id\":\"3275\",\"type\":\"BasicTicker\"},{\"attributes\":{},\"id\":\"3400\",\"type\":\"AllLabels\"},{\"attributes\":{},\"id\":\"3406\",\"type\":\"UnionRenderers\"},{\"attributes\":{\"fill_alpha\":{\"value\":0.1},\"fill_color\":{\"value\":\"green\"},\"hatch_alpha\":{\"value\":0.1},\"hatch_color\":{\"value\":\"green\"},\"line_alpha\":{\"value\":0.1},\"line_color\":{\"value\":\"green\"},\"size\":{\"value\":10},\"x\":{\"field\":\"x\"},\"y\":{\"field\":\"y\"}},\"id\":\"3298\",\"type\":\"Circle\"},{\"attributes\":{},\"id\":\"3407\",\"type\":\"Selection\"},{\"attributes\":{},\"id\":\"3402\",\"type\":\"BasicTickFormatter\"},{\"attributes\":{},\"id\":\"3403\",\"type\":\"AllLabels\"},{\"attributes\":{\"fill_alpha\":{\"value\":0.2},\"fill_color\":{\"value\":\"#FF0000\"},\"hatch_alpha\":{\"value\":0.2},\"hatch_color\":{\"value\":\"#FF0000\"},\"line_alpha\":{\"value\":0.2},\"line_color\":{\"value\":\"#FF0000\"},\"size\":{\"value\":10},\"x\":{\"field\":\"x\"},\"y\":{\"field\":\"y\"}},\"id\":\"3305\",\"type\":\"Circle\"},{\"attributes\":{\"bottom_units\":\"screen\",\"coordinates\":null,\"fill_alpha\":0.5,\"fill_color\":\"lightgrey\",\"group\":null,\"left_units\":\"screen\",\"level\":\"overlay\",\"line_alpha\":1.0,\"line_color\":\"black\",\"line_dash\":[4,4],\"line_width\":2,\"right_units\":\"screen\",\"syncable\":false,\"top_units\":\"screen\"},\"id\":\"3288\",\"type\":\"BoxAnnotation\"},{\"attributes\":{},\"id\":\"3283\",\"type\":\"WheelZoomTool\"},{\"attributes\":{},\"id\":\"3279\",\"type\":\"BasicTicker\"},{\"attributes\":{},\"id\":\"3282\",\"type\":\"PanTool\"},{\"attributes\":{\"coordinates\":null,\"formatter\":{\"id\":\"3399\"},\"group\":null,\"major_label_policy\":{\"id\":\"3400\"},\"ticker\":{\"id\":\"3279\"}},\"id\":\"3278\",\"type\":\"LinearAxis\"},{\"attributes\":{\"tools\":[{\"id\":\"3282\"},{\"id\":\"3283\"},{\"id\":\"3284\"},{\"id\":\"3285\"},{\"id\":\"3286\"},{\"id\":\"3287\"}]},\"id\":\"3289\",\"type\":\"Toolbar\"},{\"attributes\":{\"fill_alpha\":{\"value\":0.2},\"fill_color\":{\"value\":\"green\"},\"hatch_alpha\":{\"value\":0.2},\"hatch_color\":{\"value\":\"green\"},\"line_alpha\":{\"value\":0.2},\"line_color\":{\"value\":\"green\"},\"size\":{\"value\":10},\"x\":{\"field\":\"x\"},\"y\":{\"field\":\"y\"}},\"id\":\"3299\",\"type\":\"Circle\"},{\"attributes\":{},\"id\":\"3286\",\"type\":\"ResetTool\"},{\"attributes\":{},\"id\":\"3287\",\"type\":\"HelpTool\"},{\"attributes\":{\"overlay\":{\"id\":\"3288\"}},\"id\":\"3284\",\"type\":\"BoxZoomTool\"},{\"attributes\":{\"axis\":{\"id\":\"3278\"},\"coordinates\":null,\"dimension\":1,\"group\":null,\"ticker\":null},\"id\":\"3281\",\"type\":\"Grid\"},{\"attributes\":{},\"id\":\"3285\",\"type\":\"SaveTool\"},{\"attributes\":{\"coordinates\":null,\"data_source\":{\"id\":\"3296\"},\"glyph\":{\"id\":\"3297\"},\"group\":null,\"hover_glyph\":null,\"muted_glyph\":{\"id\":\"3299\"},\"nonselection_glyph\":{\"id\":\"3298\"},\"view\":{\"id\":\"3301\"}},\"id\":\"3300\",\"type\":\"GlyphRenderer\"}],\"root_ids\":[\"3265\"]},\"title\":\"Bokeh Application\",\"version\":\"2.4.3\"}};\n",
       "  const render_items = [{\"docid\":\"8e17b6ee-2abe-47cc-821b-3b074240b5b8\",\"root_ids\":[\"3265\"],\"roots\":{\"3265\":\"f0715952-0b5b-4dc2-ac89-8860d0ab0883\"}}];\n",
       "  root.Bokeh.embed.embed_items_notebook(docs_json, render_items);\n",
       "  }\n",
       "  if (root.Bokeh !== undefined) {\n",
       "    embed_document(root);\n",
       "  } else {\n",
       "    let attempts = 0;\n",
       "    const timer = setInterval(function(root) {\n",
       "      if (root.Bokeh !== undefined) {\n",
       "        clearInterval(timer);\n",
       "        embed_document(root);\n",
       "      } else {\n",
       "        attempts++;\n",
       "        if (attempts > 100) {\n",
       "          clearInterval(timer);\n",
       "          console.log(\"Bokeh: ERROR: Unable to run BokehJS code because BokehJS library is missing\");\n",
       "        }\n",
       "      }\n",
       "    }, 10, root)\n",
       "  }\n",
       "})(window);"
      ],
      "application/vnd.bokehjs_exec.v0+json": ""
     },
     "metadata": {
      "application/vnd.bokehjs_exec.v0+json": {
       "id": "3265"
      }
     },
     "output_type": "display_data"
    }
   ],
   "source": [
    "p=figure(plot_width=600,plot_height=400)\n",
    "p.circle(df.index,df['A'],color='green',size=10,alpha=0.5)\n",
    "p.circle(df.index,df['B'],color='#FF0000',size=10,alpha=0.5)\n",
    "\n",
    "p.outline_line_width=7\n",
    "p.outline_line_alpha=0.3\n",
    "p.outline_line_color=\"navy\"\n",
    "p.outline_line_dash=[6,4]\n",
    "show(p)"
   ]
  },
  {
   "cell_type": "code",
   "execution_count": 16,
   "id": "1d66043f",
   "metadata": {},
   "outputs": [
    {
     "data": {
      "text/html": [
       "\n",
       "  <div class=\"bk-root\" id=\"b90c31fc-4487-4dce-aa62-f6029389c98e\" data-root-id=\"3657\"></div>\n"
      ]
     },
     "metadata": {},
     "output_type": "display_data"
    },
    {
     "data": {
      "application/javascript": [
       "(function(root) {\n",
       "  function embed_document(root) {\n",
       "  const docs_json = {\"46ef9672-14aa-4c34-996d-2f9817ced56d\":{\"defs\":[],\"roots\":{\"references\":[{\"attributes\":{\"background_fill_alpha\":0.5,\"background_fill_color\":\"beige\",\"below\":[{\"id\":\"3666\"}],\"center\":[{\"id\":\"3669\"},{\"id\":\"3673\"}],\"height\":400,\"left\":[{\"id\":\"3670\"}],\"renderers\":[{\"id\":\"3692\"},{\"id\":\"3698\"}],\"title\":{\"id\":\"3801\"},\"toolbar\":{\"id\":\"3681\"},\"x_range\":{\"id\":\"3658\"},\"x_scale\":{\"id\":\"3662\"},\"y_range\":{\"id\":\"3660\"},\"y_scale\":{\"id\":\"3664\"}},\"id\":\"3657\",\"subtype\":\"Figure\",\"type\":\"Plot\"},{\"attributes\":{\"fill_alpha\":{\"value\":0.2},\"fill_color\":{\"value\":\"#FF0000\"},\"hatch_alpha\":{\"value\":0.2},\"hatch_color\":{\"value\":\"#FF0000\"},\"line_alpha\":{\"value\":0.2},\"line_color\":{\"value\":\"#FF0000\"},\"size\":{\"value\":10},\"x\":{\"field\":\"x\"},\"y\":{\"field\":\"y\"}},\"id\":\"3697\",\"type\":\"Circle\"},{\"attributes\":{\"data\":{\"x\":[0,1,2,3,4,5,6,7,8,9,10,11,12,13,14,15,16,17,18,19,20,21,22,23,24,25,26,27,28,29,30,31,32,33,34,35,36,37,38,39,40,41,42,43,44,45,46,47,48,49,50,51,52,53,54,55,56,57,58,59,60,61,62,63,64,65,66,67,68,69,70,71,72,73,74,75,76,77,78,79,80,81,82,83,84,85,86,87,88,89,90,91,92,93,94,95,96,97,98,99],\"y\":{\"__ndarray__\":\"cZ8C/+1v3b8gdUaVEg3xP+Ra+xSWx+6/YkqjU7Zv8r907NU4lSLsPxN7lt8Km70/+7ecflgN+r9XFINJZu/jP8BY8KKsh/A/sOGegm+14L/EinY3teTwvwoDhsNOddY/oOXjlkg75j8vwoeTB3wFwG/wtoQNt+i/r4dsdCLMt797MZ00SafzvwDkMetMhuY/417z1Eu2yL/v1EmMS33JP95V8j+HgOa/WRJfmind8D9GZUgga7/Gv6fHTJeRedW/tllS+8bU9b+SMYJhcILvv2eX9b8Cyug/8mA81I+56D/0x3G4PVzcvyORV3qEXfO/gpfepCUB2r8XcF0BEM/Jv8Z6evyBc9m/m/sav3oA7r8CYp+vpGT2Pyaer0OMc/m/KOBqsZsk6T97KqEnbVziPzSwcCbR5d2/TKDMFe4t9L/qyyQR2KjIvytr7jdKley/vUYeaywq5T8peNNzn6rLP6OLaFMugfG/m9xsytCj2b8fui/pZHJ2Pxn2oK7LaOW/3t/Mqtgd9L9vqHNlLHLYP6+MhAKpWe2/WPefdkOnwj9XLunVZn7jv8SBHHnNBfo/u4Pp+zTssD/4WEekEwahv2AOJeRKp/y/oJYLKLg0AkDjeTvVbjv0P0bW1MNTK+e/SXhCS/OP+z8KwM0QsF/KP6S1qzToJNw/HExz52C49r/s1PHX2fv8v5xh5aU+wwRAoKvm/HkTx7/s5TXcj+flv01L14OvO+O/mHIFtfhXzb+zvgVXuazyv9DYCvcMZP8/+xqHV/qB9L96S5yJlqDSP05VtOxG8Oa/23ga1P5yob+9Ho06ZibUv+6xJFmidu8/VyQ2MMw8yj8jLSHnUOzUv/nMFrKj+90/4iktrHxBxL+up9/0wYjxvwD4yyk/NQDADuP7zfaS0D8dNTgnaTe3v+lIGGJyvd2/mWMQJ3NE6z96ToGdXc3yv4xiZT3NBNm/p0vD02K9A8BUDyHdjSR7PzpWHSnvwABA7gOSb6GC7z9ZhpJIbiLnP9cVe0xxzew/C3HN2UvI/D9ES0nXwt/mPxvUnDuOXgPAKQV5vZSj5r8=\",\"dtype\":\"float64\",\"order\":\"little\",\"shape\":[100]}},\"selected\":{\"id\":\"3812\"},\"selection_policy\":{\"id\":\"3811\"}},\"id\":\"3694\",\"type\":\"ColumnDataSource\"},{\"attributes\":{},\"id\":\"3805\",\"type\":\"AllLabels\"},{\"attributes\":{\"coordinates\":null,\"group\":null},\"id\":\"3801\",\"type\":\"Title\"},{\"attributes\":{\"coordinates\":null,\"data_source\":{\"id\":\"3694\"},\"glyph\":{\"id\":\"3695\"},\"group\":null,\"hover_glyph\":null,\"muted_glyph\":{\"id\":\"3697\"},\"nonselection_glyph\":{\"id\":\"3696\"},\"view\":{\"id\":\"3699\"}},\"id\":\"3698\",\"type\":\"GlyphRenderer\"},{\"attributes\":{\"source\":{\"id\":\"3688\"}},\"id\":\"3693\",\"type\":\"CDSView\"},{\"attributes\":{},\"id\":\"3807\",\"type\":\"BasicTickFormatter\"},{\"attributes\":{\"source\":{\"id\":\"3694\"}},\"id\":\"3699\",\"type\":\"CDSView\"},{\"attributes\":{\"tools\":[{\"id\":\"3674\"},{\"id\":\"3675\"},{\"id\":\"3676\"},{\"id\":\"3677\"},{\"id\":\"3678\"},{\"id\":\"3679\"}]},\"id\":\"3681\",\"type\":\"Toolbar\"},{\"attributes\":{\"axis\":{\"id\":\"3666\"},\"coordinates\":null,\"group\":null,\"ticker\":null},\"id\":\"3669\",\"type\":\"Grid\"},{\"attributes\":{\"fill_alpha\":{\"value\":0.1},\"fill_color\":{\"value\":\"#FF0000\"},\"hatch_alpha\":{\"value\":0.1},\"hatch_color\":{\"value\":\"#FF0000\"},\"line_alpha\":{\"value\":0.1},\"line_color\":{\"value\":\"#FF0000\"},\"size\":{\"value\":10},\"x\":{\"field\":\"x\"},\"y\":{\"field\":\"y\"}},\"id\":\"3696\",\"type\":\"Circle\"},{\"attributes\":{},\"id\":\"3808\",\"type\":\"AllLabels\"},{\"attributes\":{},\"id\":\"3671\",\"type\":\"BasicTicker\"},{\"attributes\":{\"axis\":{\"id\":\"3670\"},\"coordinates\":null,\"dimension\":1,\"group\":null,\"ticker\":null},\"id\":\"3673\",\"type\":\"Grid\"},{\"attributes\":{\"coordinates\":null,\"formatter\":{\"id\":\"3807\"},\"group\":null,\"major_label_policy\":{\"id\":\"3808\"},\"ticker\":{\"id\":\"3667\"}},\"id\":\"3666\",\"type\":\"LinearAxis\"},{\"attributes\":{},\"id\":\"3809\",\"type\":\"UnionRenderers\"},{\"attributes\":{},\"id\":\"3675\",\"type\":\"WheelZoomTool\"},{\"attributes\":{},\"id\":\"3679\",\"type\":\"HelpTool\"},{\"attributes\":{\"coordinates\":null,\"formatter\":{\"id\":\"3804\"},\"group\":null,\"major_label_policy\":{\"id\":\"3805\"},\"ticker\":{\"id\":\"3671\"}},\"id\":\"3670\",\"type\":\"LinearAxis\"},{\"attributes\":{},\"id\":\"3810\",\"type\":\"Selection\"},{\"attributes\":{\"overlay\":{\"id\":\"3680\"}},\"id\":\"3676\",\"type\":\"BoxZoomTool\"},{\"attributes\":{\"fill_alpha\":{\"value\":0.1},\"fill_color\":{\"value\":\"green\"},\"hatch_alpha\":{\"value\":0.1},\"hatch_color\":{\"value\":\"green\"},\"line_alpha\":{\"value\":0.1},\"line_color\":{\"value\":\"green\"},\"size\":{\"value\":10},\"x\":{\"field\":\"x\"},\"y\":{\"field\":\"y\"}},\"id\":\"3690\",\"type\":\"Circle\"},{\"attributes\":{\"fill_alpha\":{\"value\":0.5},\"fill_color\":{\"value\":\"#FF0000\"},\"hatch_alpha\":{\"value\":0.5},\"hatch_color\":{\"value\":\"#FF0000\"},\"line_alpha\":{\"value\":0.5},\"line_color\":{\"value\":\"#FF0000\"},\"size\":{\"value\":10},\"x\":{\"field\":\"x\"},\"y\":{\"field\":\"y\"}},\"id\":\"3695\",\"type\":\"Circle\"},{\"attributes\":{\"bottom_units\":\"screen\",\"coordinates\":null,\"fill_alpha\":0.5,\"fill_color\":\"lightgrey\",\"group\":null,\"left_units\":\"screen\",\"level\":\"overlay\",\"line_alpha\":1.0,\"line_color\":\"black\",\"line_dash\":[4,4],\"line_width\":2,\"right_units\":\"screen\",\"syncable\":false,\"top_units\":\"screen\"},\"id\":\"3680\",\"type\":\"BoxAnnotation\"},{\"attributes\":{},\"id\":\"3678\",\"type\":\"ResetTool\"},{\"attributes\":{},\"id\":\"3677\",\"type\":\"SaveTool\"},{\"attributes\":{\"data\":{\"x\":[0,1,2,3,4,5,6,7,8,9,10,11,12,13,14,15,16,17,18,19,20,21,22,23,24,25,26,27,28,29,30,31,32,33,34,35,36,37,38,39,40,41,42,43,44,45,46,47,48,49,50,51,52,53,54,55,56,57,58,59,60,61,62,63,64,65,66,67,68,69,70,71,72,73,74,75,76,77,78,79,80,81,82,83,84,85,86,87,88,89,90,91,92,93,94,95,96,97,98,99],\"y\":{\"__ndarray__\":\"mFOJyBbw6z+kDyezJfrwv3QrG1CBo/O/UtGasidQ6r+ExSIcriqkPwszU+MwreE/W5xKdSxg4T/mnia8dD7YvxRw+i9bUdO//oWWYBze478R6hs4zXKLP2b4izeris6/x/uVsHVa8b8nUlhLKmjQvzO9mbXTkv2/a7jVRMhm6r84Ok8OvZjlP5NnqhVN1vi/4IbgDJymqr/GMBhC8zPrP9VlbFHuqP0/7Ulmka+W7j/4fO+uxgXKv0bjn/Zly/O/h/mKTP2w078yw+VNnCrrP0n1Uz9pZdU/cBq7CPGx5D9w5+rcI9vnv2a6rDQb6+I/pNjY4guexz99obO0Zkf9vz6Zu8kfqvA/Jodfdeyw+7+gyQmSpiXmP2/8NvMpCeg/C7Wzyaya4b/FBduGObPIv/cosXGi59q/wiQyqEYJ+7+tZF9tps/yP2KJMP3J/+6/icFwm8adyz9GDiVoPpfqv4qYeuUuUfO/JGYc8B5e+7+jm36QAxXhP65fYJubc8a/esbgi6IH+D+VoTzwa0zsvz2stob/e+c/8xzp1JdK978Y6Os9WzbSP8ISqURhRvs/JagNEgIe9b8dV3WhTLHjvxmJlrErjt2/vV92W+AH+D+edflgZK/1P5Z9DBJQDuM/o/FQ464EAcCyYG5783sBwGBwySq4G9C/vMxp1CMp7L+dZe0o8TLUPxxCnBdkFdq/K2J8Y9/y9L82Y9BtykXpv2PWWo1nMqK/P/bijqU0xz93bkfvRdvfPxkDcBe+Ruy/VctSZP8e478hUS4c5nXBv8hcCDd30+u/U+kKKjbm9b/WpvBm1jIJQCoM++6gFgZAGD7MPCye27+tLqkWnvTJP7ycEo3kQN2/SizgNjN2rL8fiji72dDWv7SMXZo3e+a/zynINgoj0j9Ud9gpEjv+v93piIXWtNO/Hl62sCY/6b/ZD++q3yjpP0LksvPBOLy//UrR19hg1L8LIvm741C2v7bBSX0ap+u/rEnGB00ipL/N2Tswifbuv5qp70gnxei/mR0Wzr9c8L+SLYlc1PTxPz8ntlKubvQ/7FjWF7Bi878=\",\"dtype\":\"float64\",\"order\":\"little\",\"shape\":[100]}},\"selected\":{\"id\":\"3810\"},\"selection_policy\":{\"id\":\"3809\"}},\"id\":\"3688\",\"type\":\"ColumnDataSource\"},{\"attributes\":{},\"id\":\"3674\",\"type\":\"PanTool\"},{\"attributes\":{\"fill_alpha\":{\"value\":0.5},\"fill_color\":{\"value\":\"green\"},\"hatch_alpha\":{\"value\":0.5},\"hatch_color\":{\"value\":\"green\"},\"line_alpha\":{\"value\":0.5},\"line_color\":{\"value\":\"green\"},\"size\":{\"value\":10},\"x\":{\"field\":\"x\"},\"y\":{\"field\":\"y\"}},\"id\":\"3689\",\"type\":\"Circle\"},{\"attributes\":{},\"id\":\"3811\",\"type\":\"UnionRenderers\"},{\"attributes\":{},\"id\":\"3658\",\"type\":\"DataRange1d\"},{\"attributes\":{\"fill_alpha\":{\"value\":0.2},\"fill_color\":{\"value\":\"green\"},\"hatch_alpha\":{\"value\":0.2},\"hatch_color\":{\"value\":\"green\"},\"line_alpha\":{\"value\":0.2},\"line_color\":{\"value\":\"green\"},\"size\":{\"value\":10},\"x\":{\"field\":\"x\"},\"y\":{\"field\":\"y\"}},\"id\":\"3691\",\"type\":\"Circle\"},{\"attributes\":{},\"id\":\"3660\",\"type\":\"DataRange1d\"},{\"attributes\":{},\"id\":\"3812\",\"type\":\"Selection\"},{\"attributes\":{},\"id\":\"3662\",\"type\":\"LinearScale\"},{\"attributes\":{\"coordinates\":null,\"data_source\":{\"id\":\"3688\"},\"glyph\":{\"id\":\"3689\"},\"group\":null,\"hover_glyph\":null,\"muted_glyph\":{\"id\":\"3691\"},\"nonselection_glyph\":{\"id\":\"3690\"},\"view\":{\"id\":\"3693\"}},\"id\":\"3692\",\"type\":\"GlyphRenderer\"},{\"attributes\":{},\"id\":\"3667\",\"type\":\"BasicTicker\"},{\"attributes\":{},\"id\":\"3664\",\"type\":\"LinearScale\"},{\"attributes\":{},\"id\":\"3804\",\"type\":\"BasicTickFormatter\"}],\"root_ids\":[\"3657\"]},\"title\":\"Bokeh Application\",\"version\":\"2.4.3\"}};\n",
       "  const render_items = [{\"docid\":\"46ef9672-14aa-4c34-996d-2f9817ced56d\",\"root_ids\":[\"3657\"],\"roots\":{\"3657\":\"b90c31fc-4487-4dce-aa62-f6029389c98e\"}}];\n",
       "  root.Bokeh.embed.embed_items_notebook(docs_json, render_items);\n",
       "  }\n",
       "  if (root.Bokeh !== undefined) {\n",
       "    embed_document(root);\n",
       "  } else {\n",
       "    let attempts = 0;\n",
       "    const timer = setInterval(function(root) {\n",
       "      if (root.Bokeh !== undefined) {\n",
       "        clearInterval(timer);\n",
       "        embed_document(root);\n",
       "      } else {\n",
       "        attempts++;\n",
       "        if (attempts > 100) {\n",
       "          clearInterval(timer);\n",
       "          console.log(\"Bokeh: ERROR: Unable to run BokehJS code because BokehJS library is missing\");\n",
       "        }\n",
       "      }\n",
       "    }, 10, root)\n",
       "  }\n",
       "})(window);"
      ],
      "application/vnd.bokehjs_exec.v0+json": ""
     },
     "metadata": {
      "application/vnd.bokehjs_exec.v0+json": {
       "id": "3657"
      }
     },
     "output_type": "display_data"
    }
   ],
   "source": [
    "p=figure(plot_width=600,plot_height=400)\n",
    "p.circle(df.index,df['A'],color='green',size=10,alpha=0.5)\n",
    "p.circle(df.index,df['B'],color='#FF0000',size=10,alpha=0.5)\n",
    "\n",
    "p.background_fill_color=\"beige\"\n",
    "p.background_fill_alpha=0.5\n",
    "\n",
    "show(p)"
   ]
  },
  {
   "cell_type": "code",
   "execution_count": 18,
   "id": "683ccf49",
   "metadata": {},
   "outputs": [
    {
     "data": {
      "text/html": [
       "\n",
       "  <div class=\"bk-root\" id=\"a231b966-b12f-47ba-b337-bb911c752f83\" data-root-id=\"4105\"></div>\n"
      ]
     },
     "metadata": {},
     "output_type": "display_data"
    },
    {
     "data": {
      "application/javascript": [
       "(function(root) {\n",
       "  function embed_document(root) {\n",
       "  const docs_json = {\"0cd1e0a1-52e6-4b2b-9fbf-862e546ab570\":{\"defs\":[],\"roots\":{\"references\":[{\"attributes\":{\"below\":[{\"id\":\"4114\"}],\"border_fill_color\":\"whitesmoke\",\"center\":[{\"id\":\"4117\"},{\"id\":\"4121\"}],\"height\":400,\"left\":[{\"id\":\"4118\"}],\"min_border_bottom\":10,\"min_border_left\":80,\"min_border_right\":80,\"min_border_top\":10,\"renderers\":[{\"id\":\"4140\"},{\"id\":\"4146\"}],\"title\":{\"id\":\"4262\"},\"toolbar\":{\"id\":\"4129\"},\"x_range\":{\"id\":\"4106\"},\"x_scale\":{\"id\":\"4110\"},\"y_range\":{\"id\":\"4108\"},\"y_scale\":{\"id\":\"4112\"}},\"id\":\"4105\",\"subtype\":\"Figure\",\"type\":\"Plot\"},{\"attributes\":{\"source\":{\"id\":\"4142\"}},\"id\":\"4147\",\"type\":\"CDSView\"},{\"attributes\":{},\"id\":\"4270\",\"type\":\"UnionRenderers\"},{\"attributes\":{\"axis\":{\"id\":\"4118\"},\"coordinates\":null,\"dimension\":1,\"group\":null,\"ticker\":null},\"id\":\"4121\",\"type\":\"Grid\"},{\"attributes\":{\"coordinates\":null,\"group\":null},\"id\":\"4262\",\"type\":\"Title\"},{\"attributes\":{},\"id\":\"4271\",\"type\":\"Selection\"},{\"attributes\":{\"fill_alpha\":{\"value\":0.1},\"fill_color\":{\"value\":\"#FF0000\"},\"hatch_alpha\":{\"value\":0.1},\"hatch_color\":{\"value\":\"#FF0000\"},\"line_alpha\":{\"value\":0.1},\"line_color\":{\"value\":\"#FF0000\"},\"size\":{\"value\":10},\"x\":{\"field\":\"x\"},\"y\":{\"field\":\"y\"}},\"id\":\"4144\",\"type\":\"Circle\"},{\"attributes\":{\"fill_alpha\":{\"value\":0.2},\"fill_color\":{\"value\":\"green\"},\"hatch_alpha\":{\"value\":0.2},\"hatch_color\":{\"value\":\"green\"},\"line_alpha\":{\"value\":0.2},\"line_color\":{\"value\":\"green\"},\"size\":{\"value\":10},\"x\":{\"field\":\"x\"},\"y\":{\"field\":\"y\"}},\"id\":\"4139\",\"type\":\"Circle\"},{\"attributes\":{},\"id\":\"4127\",\"type\":\"HelpTool\"},{\"attributes\":{\"bottom_units\":\"screen\",\"coordinates\":null,\"fill_alpha\":0.5,\"fill_color\":\"lightgrey\",\"group\":null,\"left_units\":\"screen\",\"level\":\"overlay\",\"line_alpha\":1.0,\"line_color\":\"black\",\"line_dash\":[4,4],\"line_width\":2,\"right_units\":\"screen\",\"syncable\":false,\"top_units\":\"screen\"},\"id\":\"4128\",\"type\":\"BoxAnnotation\"},{\"attributes\":{\"fill_alpha\":{\"value\":0.1},\"fill_color\":{\"value\":\"green\"},\"hatch_alpha\":{\"value\":0.1},\"hatch_color\":{\"value\":\"green\"},\"line_alpha\":{\"value\":0.1},\"line_color\":{\"value\":\"green\"},\"size\":{\"value\":10},\"x\":{\"field\":\"x\"},\"y\":{\"field\":\"y\"}},\"id\":\"4138\",\"type\":\"Circle\"},{\"attributes\":{\"tools\":[{\"id\":\"4122\"},{\"id\":\"4123\"},{\"id\":\"4124\"},{\"id\":\"4125\"},{\"id\":\"4126\"},{\"id\":\"4127\"}]},\"id\":\"4129\",\"type\":\"Toolbar\"},{\"attributes\":{},\"id\":\"4272\",\"type\":\"UnionRenderers\"},{\"attributes\":{\"axis\":{\"id\":\"4114\"},\"coordinates\":null,\"group\":null,\"ticker\":null},\"id\":\"4117\",\"type\":\"Grid\"},{\"attributes\":{},\"id\":\"4265\",\"type\":\"BasicTickFormatter\"},{\"attributes\":{\"fill_alpha\":{\"value\":0.5},\"fill_color\":{\"value\":\"#FF0000\"},\"hatch_alpha\":{\"value\":0.5},\"hatch_color\":{\"value\":\"#FF0000\"},\"line_alpha\":{\"value\":0.5},\"line_color\":{\"value\":\"#FF0000\"},\"size\":{\"value\":10},\"x\":{\"field\":\"x\"},\"y\":{\"field\":\"y\"}},\"id\":\"4143\",\"type\":\"Circle\"},{\"attributes\":{},\"id\":\"4273\",\"type\":\"Selection\"},{\"attributes\":{\"fill_alpha\":{\"value\":0.5},\"fill_color\":{\"value\":\"green\"},\"hatch_alpha\":{\"value\":0.5},\"hatch_color\":{\"value\":\"green\"},\"line_alpha\":{\"value\":0.5},\"line_color\":{\"value\":\"green\"},\"size\":{\"value\":10},\"x\":{\"field\":\"x\"},\"y\":{\"field\":\"y\"}},\"id\":\"4137\",\"type\":\"Circle\"},{\"attributes\":{},\"id\":\"4106\",\"type\":\"DataRange1d\"},{\"attributes\":{},\"id\":\"4122\",\"type\":\"PanTool\"},{\"attributes\":{\"coordinates\":null,\"formatter\":{\"id\":\"4265\"},\"group\":null,\"major_label_policy\":{\"id\":\"4266\"},\"ticker\":{\"id\":\"4119\"}},\"id\":\"4118\",\"type\":\"LinearAxis\"},{\"attributes\":{},\"id\":\"4125\",\"type\":\"SaveTool\"},{\"attributes\":{\"coordinates\":null,\"data_source\":{\"id\":\"4142\"},\"glyph\":{\"id\":\"4143\"},\"group\":null,\"hover_glyph\":null,\"muted_glyph\":{\"id\":\"4145\"},\"nonselection_glyph\":{\"id\":\"4144\"},\"view\":{\"id\":\"4147\"}},\"id\":\"4146\",\"type\":\"GlyphRenderer\"},{\"attributes\":{},\"id\":\"4112\",\"type\":\"LinearScale\"},{\"attributes\":{},\"id\":\"4123\",\"type\":\"WheelZoomTool\"},{\"attributes\":{},\"id\":\"4108\",\"type\":\"DataRange1d\"},{\"attributes\":{\"data\":{\"x\":[0,1,2,3,4,5,6,7,8,9,10,11,12,13,14,15,16,17,18,19,20,21,22,23,24,25,26,27,28,29,30,31,32,33,34,35,36,37,38,39,40,41,42,43,44,45,46,47,48,49,50,51,52,53,54,55,56,57,58,59,60,61,62,63,64,65,66,67,68,69,70,71,72,73,74,75,76,77,78,79,80,81,82,83,84,85,86,87,88,89,90,91,92,93,94,95,96,97,98,99],\"y\":{\"__ndarray__\":\"mFOJyBbw6z+kDyezJfrwv3QrG1CBo/O/UtGasidQ6r+ExSIcriqkPwszU+MwreE/W5xKdSxg4T/mnia8dD7YvxRw+i9bUdO//oWWYBze478R6hs4zXKLP2b4izeris6/x/uVsHVa8b8nUlhLKmjQvzO9mbXTkv2/a7jVRMhm6r84Ok8OvZjlP5NnqhVN1vi/4IbgDJymqr/GMBhC8zPrP9VlbFHuqP0/7Ulmka+W7j/4fO+uxgXKv0bjn/Zly/O/h/mKTP2w078yw+VNnCrrP0n1Uz9pZdU/cBq7CPGx5D9w5+rcI9vnv2a6rDQb6+I/pNjY4guexz99obO0Zkf9vz6Zu8kfqvA/Jodfdeyw+7+gyQmSpiXmP2/8NvMpCeg/C7Wzyaya4b/FBduGObPIv/cosXGi59q/wiQyqEYJ+7+tZF9tps/yP2KJMP3J/+6/icFwm8adyz9GDiVoPpfqv4qYeuUuUfO/JGYc8B5e+7+jm36QAxXhP65fYJubc8a/esbgi6IH+D+VoTzwa0zsvz2stob/e+c/8xzp1JdK978Y6Os9WzbSP8ISqURhRvs/JagNEgIe9b8dV3WhTLHjvxmJlrErjt2/vV92W+AH+D+edflgZK/1P5Z9DBJQDuM/o/FQ464EAcCyYG5783sBwGBwySq4G9C/vMxp1CMp7L+dZe0o8TLUPxxCnBdkFdq/K2J8Y9/y9L82Y9BtykXpv2PWWo1nMqK/P/bijqU0xz93bkfvRdvfPxkDcBe+Ruy/VctSZP8e478hUS4c5nXBv8hcCDd30+u/U+kKKjbm9b/WpvBm1jIJQCoM++6gFgZAGD7MPCye27+tLqkWnvTJP7ycEo3kQN2/SizgNjN2rL8fiji72dDWv7SMXZo3e+a/zynINgoj0j9Ud9gpEjv+v93piIXWtNO/Hl62sCY/6b/ZD++q3yjpP0LksvPBOLy//UrR19hg1L8LIvm741C2v7bBSX0ap+u/rEnGB00ipL/N2Tswifbuv5qp70gnxei/mR0Wzr9c8L+SLYlc1PTxPz8ntlKubvQ/7FjWF7Bi878=\",\"dtype\":\"float64\",\"order\":\"little\",\"shape\":[100]}},\"selected\":{\"id\":\"4271\"},\"selection_policy\":{\"id\":\"4270\"}},\"id\":\"4136\",\"type\":\"ColumnDataSource\"},{\"attributes\":{},\"id\":\"4268\",\"type\":\"BasicTickFormatter\"},{\"attributes\":{\"coordinates\":null,\"formatter\":{\"id\":\"4268\"},\"group\":null,\"major_label_policy\":{\"id\":\"4269\"},\"ticker\":{\"id\":\"4115\"}},\"id\":\"4114\",\"type\":\"LinearAxis\"},{\"attributes\":{\"overlay\":{\"id\":\"4128\"}},\"id\":\"4124\",\"type\":\"BoxZoomTool\"},{\"attributes\":{\"coordinates\":null,\"data_source\":{\"id\":\"4136\"},\"glyph\":{\"id\":\"4137\"},\"group\":null,\"hover_glyph\":null,\"muted_glyph\":{\"id\":\"4139\"},\"nonselection_glyph\":{\"id\":\"4138\"},\"view\":{\"id\":\"4141\"}},\"id\":\"4140\",\"type\":\"GlyphRenderer\"},{\"attributes\":{},\"id\":\"4110\",\"type\":\"LinearScale\"},{\"attributes\":{},\"id\":\"4119\",\"type\":\"BasicTicker\"},{\"attributes\":{},\"id\":\"4266\",\"type\":\"AllLabels\"},{\"attributes\":{\"source\":{\"id\":\"4136\"}},\"id\":\"4141\",\"type\":\"CDSView\"},{\"attributes\":{},\"id\":\"4126\",\"type\":\"ResetTool\"},{\"attributes\":{},\"id\":\"4269\",\"type\":\"AllLabels\"},{\"attributes\":{\"fill_alpha\":{\"value\":0.2},\"fill_color\":{\"value\":\"#FF0000\"},\"hatch_alpha\":{\"value\":0.2},\"hatch_color\":{\"value\":\"#FF0000\"},\"line_alpha\":{\"value\":0.2},\"line_color\":{\"value\":\"#FF0000\"},\"size\":{\"value\":10},\"x\":{\"field\":\"x\"},\"y\":{\"field\":\"y\"}},\"id\":\"4145\",\"type\":\"Circle\"},{\"attributes\":{},\"id\":\"4115\",\"type\":\"BasicTicker\"},{\"attributes\":{\"data\":{\"x\":[0,1,2,3,4,5,6,7,8,9,10,11,12,13,14,15,16,17,18,19,20,21,22,23,24,25,26,27,28,29,30,31,32,33,34,35,36,37,38,39,40,41,42,43,44,45,46,47,48,49,50,51,52,53,54,55,56,57,58,59,60,61,62,63,64,65,66,67,68,69,70,71,72,73,74,75,76,77,78,79,80,81,82,83,84,85,86,87,88,89,90,91,92,93,94,95,96,97,98,99],\"y\":{\"__ndarray__\":\"cZ8C/+1v3b8gdUaVEg3xP+Ra+xSWx+6/YkqjU7Zv8r907NU4lSLsPxN7lt8Km70/+7ecflgN+r9XFINJZu/jP8BY8KKsh/A/sOGegm+14L/EinY3teTwvwoDhsNOddY/oOXjlkg75j8vwoeTB3wFwG/wtoQNt+i/r4dsdCLMt797MZ00SafzvwDkMetMhuY/417z1Eu2yL/v1EmMS33JP95V8j+HgOa/WRJfmind8D9GZUgga7/Gv6fHTJeRedW/tllS+8bU9b+SMYJhcILvv2eX9b8Cyug/8mA81I+56D/0x3G4PVzcvyORV3qEXfO/gpfepCUB2r8XcF0BEM/Jv8Z6evyBc9m/m/sav3oA7r8CYp+vpGT2Pyaer0OMc/m/KOBqsZsk6T97KqEnbVziPzSwcCbR5d2/TKDMFe4t9L/qyyQR2KjIvytr7jdKley/vUYeaywq5T8peNNzn6rLP6OLaFMugfG/m9xsytCj2b8fui/pZHJ2Pxn2oK7LaOW/3t/Mqtgd9L9vqHNlLHLYP6+MhAKpWe2/WPefdkOnwj9XLunVZn7jv8SBHHnNBfo/u4Pp+zTssD/4WEekEwahv2AOJeRKp/y/oJYLKLg0AkDjeTvVbjv0P0bW1MNTK+e/SXhCS/OP+z8KwM0QsF/KP6S1qzToJNw/HExz52C49r/s1PHX2fv8v5xh5aU+wwRAoKvm/HkTx7/s5TXcj+flv01L14OvO+O/mHIFtfhXzb+zvgVXuazyv9DYCvcMZP8/+xqHV/qB9L96S5yJlqDSP05VtOxG8Oa/23ga1P5yob+9Ho06ZibUv+6xJFmidu8/VyQ2MMw8yj8jLSHnUOzUv/nMFrKj+90/4iktrHxBxL+up9/0wYjxvwD4yyk/NQDADuP7zfaS0D8dNTgnaTe3v+lIGGJyvd2/mWMQJ3NE6z96ToGdXc3yv4xiZT3NBNm/p0vD02K9A8BUDyHdjSR7PzpWHSnvwABA7gOSb6GC7z9ZhpJIbiLnP9cVe0xxzew/C3HN2UvI/D9ES0nXwt/mPxvUnDuOXgPAKQV5vZSj5r8=\",\"dtype\":\"float64\",\"order\":\"little\",\"shape\":[100]}},\"selected\":{\"id\":\"4273\"},\"selection_policy\":{\"id\":\"4272\"}},\"id\":\"4142\",\"type\":\"ColumnDataSource\"}],\"root_ids\":[\"4105\"]},\"title\":\"Bokeh Application\",\"version\":\"2.4.3\"}};\n",
       "  const render_items = [{\"docid\":\"0cd1e0a1-52e6-4b2b-9fbf-862e546ab570\",\"root_ids\":[\"4105\"],\"roots\":{\"4105\":\"a231b966-b12f-47ba-b337-bb911c752f83\"}}];\n",
       "  root.Bokeh.embed.embed_items_notebook(docs_json, render_items);\n",
       "  }\n",
       "  if (root.Bokeh !== undefined) {\n",
       "    embed_document(root);\n",
       "  } else {\n",
       "    let attempts = 0;\n",
       "    const timer = setInterval(function(root) {\n",
       "      if (root.Bokeh !== undefined) {\n",
       "        clearInterval(timer);\n",
       "        embed_document(root);\n",
       "      } else {\n",
       "        attempts++;\n",
       "        if (attempts > 100) {\n",
       "          clearInterval(timer);\n",
       "          console.log(\"Bokeh: ERROR: Unable to run BokehJS code because BokehJS library is missing\");\n",
       "        }\n",
       "      }\n",
       "    }, 10, root)\n",
       "  }\n",
       "})(window);"
      ],
      "application/vnd.bokehjs_exec.v0+json": ""
     },
     "metadata": {
      "application/vnd.bokehjs_exec.v0+json": {
       "id": "4105"
      }
     },
     "output_type": "display_data"
    }
   ],
   "source": [
    "p=figure(plot_width=600,plot_height=400)\n",
    "p.circle(df.index,df['A'],color='green',size=10,alpha=0.5)\n",
    "p.circle(df.index,df['B'],color='#FF0000',size=10,alpha=0.5)\n",
    "\n",
    "p.border_fill_color=\"whitesmoke\"\n",
    "p.min_border_left=80\n",
    "p.min_border_right=80\n",
    "p.min_border_top=10\n",
    "p.min_border_bottom=10\n",
    "\n",
    "show(p)"
   ]
  },
  {
   "cell_type": "code",
   "execution_count": null,
   "id": "c83e7278",
   "metadata": {},
   "outputs": [],
   "source": [
    "p=figure(plot_width=600,plot_height=400)\n",
    "p.circle(df.index,df['A'],color='green',size=10,alpha=0.5)\n",
    "p.circle(df.index,df['B'],color='#FF0000',size=10,alpha=0.5)\n",
    "show(p)"
   ]
  }
 ],
 "metadata": {
  "kernelspec": {
   "display_name": "Python 3 (ipykernel)",
   "language": "python",
   "name": "python3"
  },
  "language_info": {
   "codemirror_mode": {
    "name": "ipython",
    "version": 3
   },
   "file_extension": ".py",
   "mimetype": "text/x-python",
   "name": "python",
   "nbconvert_exporter": "python",
   "pygments_lexer": "ipython3",
   "version": "3.9.5"
  }
 },
 "nbformat": 4,
 "nbformat_minor": 5
}
